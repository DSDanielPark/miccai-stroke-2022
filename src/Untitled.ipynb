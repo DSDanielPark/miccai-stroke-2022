{
 "cells": [
  {
   "cell_type": "code",
   "execution_count": 10,
   "id": "03f2d2e8-0882-4e1a-aa6d-d29be4ce3930",
   "metadata": {},
   "outputs": [
    {
     "name": "stderr",
     "output_type": "stream",
     "text": [
      "usage: ipykernel_launcher.py [-h] [--task1_data_path TASK1_DATA_PATH] [--task2_data_path TASK2_DATA_PATH]\n",
      "                             [--save_path SAVE_PATH]\n",
      "ipykernel_launcher.py: error: unrecognized arguments: -f C:\\Users\\parkm\\AppData\\Roaming\\jupyter\\runtime\\kernel-49887723-4588-47c1-bdc3-53df7a519060.json\n"
     ]
    },
    {
     "ename": "SystemExit",
     "evalue": "2",
     "output_type": "error",
     "traceback": [
      "An exception has occurred, use %tb to see the full traceback.\n",
      "\u001b[1;31mSystemExit\u001b[0m\u001b[1;31m:\u001b[0m 2\n"
     ]
    }
   ],
   "source": [
    "from EdaNifti import *"
   ]
  },
  {
   "cell_type": "code",
   "execution_count": 4,
   "id": "d5aae637-d3a7-4849-aa8d-38a1e205b0a2",
   "metadata": {},
   "outputs": [
    {
     "ename": "NameError",
     "evalue": "name 'NiftiAnalysis' is not defined",
     "output_type": "error",
     "traceback": [
      "\u001b[1;31m---------------------------------------------------------------------------\u001b[0m",
      "\u001b[1;31mNameError\u001b[0m                                 Traceback (most recent call last)",
      "\u001b[1;32m~\\AppData\\Local\\Temp/ipykernel_19828/651559692.py\u001b[0m in \u001b[0;36m<module>\u001b[1;34m\u001b[0m\n\u001b[1;32m----> 1\u001b[1;33m \u001b[0mNiftiAnalysis\u001b[0m\u001b[1;33m\u001b[0m\u001b[1;33m\u001b[0m\u001b[0m\n\u001b[0m",
      "\u001b[1;31mNameError\u001b[0m: name 'NiftiAnalysis' is not defined"
     ]
    }
   ],
   "source": [
    "NiftiAnalysis"
   ]
  },
  {
   "cell_type": "code",
   "execution_count": null,
   "id": "e88c995e-cc00-46e5-9bc9-5e7f68aa61ec",
   "metadata": {},
   "outputs": [],
   "source": []
  }
 ],
 "metadata": {
  "kernelspec": {
   "display_name": "Python 3 (ipykernel)",
   "language": "python",
   "name": "python3"
  },
  "language_info": {
   "codemirror_mode": {
    "name": "ipython",
    "version": 3
   },
   "file_extension": ".py",
   "mimetype": "text/x-python",
   "name": "python",
   "nbconvert_exporter": "python",
   "pygments_lexer": "ipython3",
   "version": "3.9.7"
  }
 },
 "nbformat": 4,
 "nbformat_minor": 5
}
