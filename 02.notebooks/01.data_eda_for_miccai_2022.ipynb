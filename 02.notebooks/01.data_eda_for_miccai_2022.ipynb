{
 "cells": [
  {
   "cell_type": "markdown",
   "id": "89aaaa4e-eef6-4d91-aad4-d6a3cf9da68a",
   "metadata": {},
   "source": [
    "!pip install nibabel"
   ]
  },
  {
   "cell_type": "code",
   "execution_count": 28,
   "id": "c3d157fa-0115-4dbe-88c7-8b9900c5b7d0",
   "metadata": {},
   "outputs": [],
   "source": [
    "import glob\n",
    "import os, sys\n",
    "import nibabel as nib \n",
    "import pandas as pd\n",
    "import numpy as np\n",
    "import matplotlib.pyplot as plt"
   ]
  },
  {
   "cell_type": "code",
   "execution_count": 105,
   "id": "1784891c-2119-4a04-b98c-472a08bfefd0",
   "metadata": {},
   "outputs": [],
   "source": [
    "task1_derivatives_nii = glob.glob(r'C:/Users/parkm/Desktop/github/miccai_stroke_2022/01.data/task1.stroke_segmentation/dataset-ISLES22^release1 unzipped version/derivatives/**/*.nii.gz', recursive=True)"
   ]
  },
  {
   "cell_type": "code",
   "execution_count": 106,
   "id": "3a1b758f-542f-4c87-852d-33070ee2f954",
   "metadata": {
    "tags": []
   },
   "outputs": [],
   "source": [
    "task1_rawdata_nii = glob.glob(r'C:/Users/parkm/Desktop/github/miccai_stroke_2022/01.data/task1.stroke_segmentation/dataset-ISLES22^release1 unzipped version/rawdata/**/*.nii.gz', recursive=True)"
   ]
  },
  {
   "cell_type": "code",
   "execution_count": 129,
   "id": "e2eba85b-1f90-433b-a0c5-56388a3eea06",
   "metadata": {},
   "outputs": [],
   "source": [
    "task2_test_data = glob.glob(r'C:/Users/parkm/Desktop/github/miccai_stroke_2022/01.data/task2.ATLAS_2.0/ATLAS_2/Testing/**/**/**/**/*.nii.gz', recursive=True)"
   ]
  },
  {
   "cell_type": "code",
   "execution_count": 131,
   "id": "5e8f9496-4e66-4cd6-bf0b-882838938910",
   "metadata": {},
   "outputs": [],
   "source": [
    "task2_train_data = glob.glob(r'C:/Users/parkm/Desktop/github/miccai_stroke_2022/01.data/task2.ATLAS_2.0/ATLAS_2/Training/**/**/**/**/*.nii.gz', recursive=True)"
   ]
  },
  {
   "cell_type": "code",
   "execution_count": 107,
   "id": "9e7548b7-8c34-49bc-ab91-439322229457",
   "metadata": {},
   "outputs": [],
   "source": [
    "# img 객체에 nii.gz 파일 경로 입력해서 열기\n",
    "img = nib.load(task1_derivatives_nii[0])"
   ]
  },
  {
   "cell_type": "code",
   "execution_count": 108,
   "id": "f4610cce-2c37-4b2b-b913-8627fefaf221",
   "metadata": {},
   "outputs": [
    {
     "data": {
      "text/plain": [
       "(112, 112, 72)"
      ]
     },
     "execution_count": 108,
     "metadata": {},
     "output_type": "execute_result"
    }
   ],
   "source": [
    "# shape 확인하기\n",
    "img.shape"
   ]
  },
  {
   "cell_type": "code",
   "execution_count": 12,
   "id": "0f298374-d589-442f-bd9c-3c9854403b9f",
   "metadata": {},
   "outputs": [
    {
     "data": {
      "text/plain": [
       "dtype('<f8')"
      ]
     },
     "execution_count": 12,
     "metadata": {},
     "output_type": "execute_result"
    }
   ],
   "source": [
    "# dtype 확인하기\n",
    "img.get_data_dtype()"
   ]
  },
  {
   "cell_type": "code",
   "execution_count": 13,
   "id": "361d1d6f-1f43-4ce5-8eb4-58ced1c9f0f4",
   "metadata": {},
   "outputs": [
    {
     "data": {
      "text/plain": [
       "(4, 4)"
      ]
     },
     "execution_count": 13,
     "metadata": {},
     "output_type": "execute_result"
    }
   ],
   "source": [
    "# 이미지의 affine metrix 확인하기\n",
    "img.affine.shape"
   ]
  },
  {
   "cell_type": "code",
   "execution_count": 14,
   "id": "a34f1775-a05c-4d4b-8e2c-1368821edb24",
   "metadata": {},
   "outputs": [
    {
     "data": {
      "text/plain": [
       "array([[-1.99384665e+00,  3.16470414e-02, -1.53538913e-01,\n",
       "         1.22663658e+02],\n",
       "       [ 7.92258307e-02,  1.89368439e+00, -6.38500273e-01,\n",
       "        -9.00652237e+01],\n",
       "       [-1.35273814e-01,  6.42617941e-01,  1.88911176e+00,\n",
       "        -8.15926666e+01],\n",
       "       [ 0.00000000e+00,  0.00000000e+00,  0.00000000e+00,\n",
       "         1.00000000e+00]])"
      ]
     },
     "execution_count": 14,
     "metadata": {},
     "output_type": "execute_result"
    }
   ],
   "source": [
    "img.affine"
   ]
  },
  {
   "cell_type": "code",
   "execution_count": 15,
   "id": "f9605547-89ee-47c9-9a8b-f44c593d68ac",
   "metadata": {},
   "outputs": [],
   "source": [
    "# nifti 이미지 헤더 확인하기\n",
    "hdr = img.header"
   ]
  },
  {
   "cell_type": "code",
   "execution_count": 16,
   "id": "1f64d1aa-3fec-4f08-87ed-b357ddf9fddb",
   "metadata": {},
   "outputs": [],
   "source": [
    "hdr_dict = dict()"
   ]
  },
  {
   "cell_type": "code",
   "execution_count": 17,
   "id": "e52a9e20-7ac4-4b27-8d55-f116d6fd4b82",
   "metadata": {},
   "outputs": [],
   "source": [
    "hdr_dict['file1'] = hdr"
   ]
  },
  {
   "cell_type": "code",
   "execution_count": 18,
   "id": "86573629-3bba-48f5-81bc-52141f1a544b",
   "metadata": {},
   "outputs": [
    {
     "name": "stdout",
     "output_type": "stream",
     "text": [
      "<class 'nibabel.nifti1.Nifti1Header'> object, endian='<'\n",
      "sizeof_hdr      : 348\n",
      "data_type       : b''\n",
      "db_name         : b''\n",
      "extents         : 0\n",
      "session_error   : 0\n",
      "regular         : b'r'\n",
      "dim_info        : 0\n",
      "dim             : [  3 112 112  72   1   1   1   1]\n",
      "intent_p1       : 0.0\n",
      "intent_p2       : 0.0\n",
      "intent_p3       : 0.0\n",
      "intent_code     : none\n",
      "datatype        : float64\n",
      "bitpix          : 64\n",
      "slice_start     : 0\n",
      "pixdim          : [-1.  2.  2.  2.  0.  0.  0.  0.]\n",
      "vox_offset      : 0.0\n",
      "scl_slope       : nan\n",
      "scl_inter       : nan\n",
      "slice_end       : 0\n",
      "slice_code      : unknown\n",
      "xyzt_units      : 2\n",
      "cal_max         : 0.0\n",
      "cal_min         : 0.0\n",
      "slice_duration  : 0.0\n",
      "toffset         : 0.0\n",
      "glmax           : 0\n",
      "glmin           : 0\n",
      "descrip         : b''\n",
      "aux_file        : b''\n",
      "qform_code      : aligned\n",
      "sform_code      : scanner\n",
      "quatern_b       : 0.014056727\n",
      "quatern_c       : 0.98594135\n",
      "quatern_d       : 0.16242322\n",
      "qoffset_x       : 122.66366\n",
      "qoffset_y       : -90.06522\n",
      "qoffset_z       : -81.59267\n",
      "srow_x          : [-1.9938467e+00  3.1647041e-02 -1.5353891e-01  1.2266366e+02]\n",
      "srow_y          : [ 7.9225831e-02  1.8936844e+00 -6.3850027e-01 -9.0065224e+01]\n",
      "srow_z          : [ -0.13527381   0.64261794   1.8891118  -81.59267   ]\n",
      "intent_name     : b''\n",
      "magic           : b'n+1'\n"
     ]
    }
   ],
   "source": [
    "print(hdr)"
   ]
  },
  {
   "cell_type": "code",
   "execution_count": 19,
   "id": "1498917b-90fd-4aec-8885-c06ac9034141",
   "metadata": {},
   "outputs": [
    {
     "data": {
      "text/plain": [
       "'mm'"
      ]
     },
     "execution_count": 19,
     "metadata": {},
     "output_type": "execute_result"
    }
   ],
   "source": [
    "# x,y,z unit 확인하기\n",
    "hdr.get_xyzt_units()[0]"
   ]
  },
  {
   "cell_type": "code",
   "execution_count": 20,
   "id": "8b54f70f-3acb-4be9-9bec-9eb6854cdba4",
   "metadata": {},
   "outputs": [
    {
     "data": {
      "text/plain": [
       "'unknown'"
      ]
     },
     "execution_count": 20,
     "metadata": {},
     "output_type": "execute_result"
    }
   ],
   "source": [
    "hdr.get_xyzt_units()[1]"
   ]
  },
  {
   "cell_type": "code",
   "execution_count": 21,
   "id": "e9620583-aadb-42be-8e70-eb5a33854a6f",
   "metadata": {},
   "outputs": [],
   "source": [
    "# raw 헤더정보 액세스하기(고급 옵션)\n",
    "raw = hdr.structarr"
   ]
  },
  {
   "cell_type": "code",
   "execution_count": 22,
   "id": "12ba8c12-ceff-4ca9-a335-300a44bb4d0d",
   "metadata": {},
   "outputs": [
    {
     "data": {
      "text/plain": [
       "array((348, b'', b'', 0, 0, b'r', 0, [  3, 112, 112,  72,   1,   1,   1,   1], 0., 0., 0., 0, 64, 64, 0, [-1.,  2.,  2.,  2.,  0.,  0.,  0.,  0.], 0., nan, nan, 0, 0, 2, 0., 0., 0., 0., 0, 0, b'', b'', 2, 1, 0.01405673, 0.98594135, 0.16242322, 122.66366, -90.06522, -81.59267, [-1.9938467e+00,  3.1647041e-02, -1.5353891e-01,  1.2266366e+02], [ 7.9225831e-02,  1.8936844e+00, -6.3850027e-01, -9.0065224e+01], [ -0.13527381,   0.64261794,   1.8891118 , -81.59267   ], b'', b'n+1'),\n",
       "      dtype=[('sizeof_hdr', '<i4'), ('data_type', 'S10'), ('db_name', 'S18'), ('extents', '<i4'), ('session_error', '<i2'), ('regular', 'S1'), ('dim_info', 'u1'), ('dim', '<i2', (8,)), ('intent_p1', '<f4'), ('intent_p2', '<f4'), ('intent_p3', '<f4'), ('intent_code', '<i2'), ('datatype', '<i2'), ('bitpix', '<i2'), ('slice_start', '<i2'), ('pixdim', '<f4', (8,)), ('vox_offset', '<f4'), ('scl_slope', '<f4'), ('scl_inter', '<f4'), ('slice_end', '<i2'), ('slice_code', 'u1'), ('xyzt_units', 'u1'), ('cal_max', '<f4'), ('cal_min', '<f4'), ('slice_duration', '<f4'), ('toffset', '<f4'), ('glmax', '<i4'), ('glmin', '<i4'), ('descrip', 'S80'), ('aux_file', 'S24'), ('qform_code', '<i2'), ('sform_code', '<i2'), ('quatern_b', '<f4'), ('quatern_c', '<f4'), ('quatern_d', '<f4'), ('qoffset_x', '<f4'), ('qoffset_y', '<f4'), ('qoffset_z', '<f4'), ('srow_x', '<f4', (4,)), ('srow_y', '<f4', (4,)), ('srow_z', '<f4', (4,)), ('intent_name', 'S16'), ('magic', 'S4')])"
      ]
     },
     "execution_count": 22,
     "metadata": {},
     "output_type": "execute_result"
    }
   ],
   "source": [
    "raw"
   ]
  },
  {
   "cell_type": "code",
   "execution_count": 23,
   "id": "3e1a20a7-839b-48c5-92aa-77b19770f911",
   "metadata": {},
   "outputs": [],
   "source": [
    "# data에 nii.gz 파일 array로 담기\n",
    "data = img.get_fdata()"
   ]
  },
  {
   "cell_type": "code",
   "execution_count": 24,
   "id": "a45c8e7e-ffd6-4b0f-8b35-667e338b127a",
   "metadata": {},
   "outputs": [
    {
     "data": {
      "text/plain": [
       "(112, 112, 72)"
      ]
     },
     "execution_count": 24,
     "metadata": {},
     "output_type": "execute_result"
    }
   ],
   "source": [
    "# get_fdata의 shape 확인하기\n",
    "data.shape"
   ]
  },
  {
   "cell_type": "code",
   "execution_count": 62,
   "id": "3d588a84-1eaa-471a-90fd-08b9ebd20cbc",
   "metadata": {},
   "outputs": [
    {
     "data": {
      "text/plain": [
       "56.0"
      ]
     },
     "execution_count": 62,
     "metadata": {},
     "output_type": "execute_result"
    }
   ],
   "source": [
    "\n",
    "data.shape[1]/2"
   ]
  },
  {
   "cell_type": "code",
   "execution_count": 64,
   "id": "a1728fda-ad25-4542-8e1a-f0ce0e16d5f5",
   "metadata": {},
   "outputs": [],
   "source": [
    "layer_numb_list = []"
   ]
  },
  {
   "cell_type": "code",
   "execution_count": 73,
   "id": "64dcafe4-32d8-4a81-95bb-769fed98cb12",
   "metadata": {},
   "outputs": [
    {
     "data": {
      "text/plain": [
       "[76, 71, 66, 61, 56, 51, 46, 41, 36]"
      ]
     },
     "execution_count": 73,
     "metadata": {},
     "output_type": "execute_result"
    }
   ],
   "source": [
    "[int((data.shape[1]/2+20)-5*i) for i in range(9)]"
   ]
  },
  {
   "cell_type": "code",
   "execution_count": null,
   "id": "f151ffa5-7c51-4262-a9e5-c48fa60f873e",
   "metadata": {},
   "outputs": [],
   "source": []
  },
  {
   "cell_type": "code",
   "execution_count": null,
   "id": "2b902034-c39f-4d90-926b-ffdbba79e26d",
   "metadata": {},
   "outputs": [],
   "source": []
  },
  {
   "cell_type": "code",
   "execution_count": null,
   "id": "a7bdb978-0745-4e71-afbb-d13924e5d3a6",
   "metadata": {},
   "outputs": [],
   "source": []
  },
  {
   "cell_type": "code",
   "execution_count": 25,
   "id": "33f5bf3a-9a09-410f-85ab-845e8b5af5e7",
   "metadata": {},
   "outputs": [
    {
     "data": {
      "text/plain": [
       "72"
      ]
     },
     "execution_count": 25,
     "metadata": {},
     "output_type": "execute_result"
    }
   ],
   "source": [
    "data.shape[2]"
   ]
  },
  {
   "cell_type": "code",
   "execution_count": 29,
   "id": "0fde5430-1930-4adc-9a1d-c678948049de",
   "metadata": {},
   "outputs": [
    {
     "data": {
      "text/plain": [
       "<matplotlib.image.AxesImage at 0x2b34424b520>"
      ]
     },
     "execution_count": 29,
     "metadata": {},
     "output_type": "execute_result"
    },
    {
     "data": {
      "image/png": "[encoded data removed]",
      "text/plain": [
       "<Figure size 432x288 with 1 Axes>"
      ]
     },
     "metadata": {
      "needs_background": "light"
     },
     "output_type": "display_data"
    }
   ],
   "source": [
    "plt.imshow(data[:,:,20])"
   ]
  },
  {
   "cell_type": "code",
   "execution_count": 142,
   "id": "84dcd314-9565-48b0-aa6f-04299864dedb",
   "metadata": {},
   "outputs": [],
   "source": [
    "def save_nifti_images(input_nifti_path, axis, layer_numb_list, interval, save_path):\n",
    "    \n",
    "    \n",
    "    file_name = input_nifti_path.split('\\\\')[-1].rstrip('.nii.gz')\n",
    "    \n",
    "    img = nib.load(input_nifti_path)\n",
    "    data = img.get_fdata()\n",
    "    fig, axs = plt.subplots(3, 3, figsize=(10,10))\n",
    "    \n",
    "    if layer_numb_list==None:\n",
    "        layer_numb_list = [int((data.shape[axis]/2+(interval*4))-interval*i) for i in range(9)]\n",
    "        \n",
    "        for ax, layer_numb in zip(axs.ravel(), layer_numb_list):\n",
    "            if axis==2:\n",
    "                sample = data[:,:,layer_numb]\n",
    "            elif axis==1:\n",
    "                sample = data[:,layer_numb,:]\n",
    "            elif axis==0:\n",
    "                sample = data[layer_numb,:,:]\n",
    "            ax.imshow(sample, cmap='gray')\n",
    "            \n",
    "    else:\n",
    "        for ax, layer_numb in zip(axs.ravel(), layer_numb_list):\n",
    "            if axis==2:\n",
    "                sample = data[:,:,layer_numb]\n",
    "            elif axis==1:\n",
    "                sample = data[:,layer_numb,:]\n",
    "            elif axis==0:\n",
    "                sample = data[layer_numb,:,:]\n",
    "            ax.imshow(sample, cmap='gray')\n",
    "    \n",
    "    plt.savefig(os.path.join(save_path,file_name)+'.png', dpi=300)\n"
   ]
  },
  {
   "cell_type": "code",
   "execution_count": 86,
   "id": "46b9bdc3-51dd-4a89-b36d-93bd810d135e",
   "metadata": {},
   "outputs": [
    {
     "data": {
      "text/plain": [
       "(112, 112, 72)"
      ]
     },
     "execution_count": 86,
     "metadata": {},
     "output_type": "execute_result"
    }
   ],
   "source": [
    "data.shape"
   ]
  },
  {
   "cell_type": "code",
   "execution_count": 134,
   "id": "5473c59e-a4e7-4713-9e21-1ee2a0b64f6d",
   "metadata": {},
   "outputs": [
    {
     "data": {
      "text/plain": [
       "'C:/Users/parkm/Desktop/github/miccai_stroke_2022/01.data/task2.ATLAS_2.0/ATLAS_2/Training\\\\R001\\\\sub-r001s006\\\\ses-1\\\\anat\\\\sub-r001s006_ses-1_space-MNI152NLin2009aSym_label-L_desc-T1lesion_mask.nii.gz'"
      ]
     },
     "execution_count": 134,
     "metadata": {},
     "output_type": "execute_result"
    }
   ],
   "source": [
    "task2_train_data[10]"
   ]
  },
  {
   "cell_type": "code",
   "execution_count": null,
   "id": "f5afd5b9-6651-4e6b-8720-f7d54eb6f3ed",
   "metadata": {},
   "outputs": [],
   "source": [
    "save_nifti_images(task2_test_data[0], 2, None, 5, 'C:/Users/parkm/Desktop/github/miccai_stroke_2022/result/')"
   ]
  },
  {
   "cell_type": "code",
   "execution_count": 113,
   "id": "7b3fabd6-f1bf-4105-9b5a-86ed5d59d4bc",
   "metadata": {},
   "outputs": [],
   "source": [
    "import scipy.ndimage as ndi"
   ]
  },
  {
   "cell_type": "code",
   "execution_count": 122,
   "id": "64e9afc4-a239-48fd-bac4-660a4e40014e",
   "metadata": {},
   "outputs": [
    {
     "data": {
      "image/png": "[encoded data removed]",
      "text/plain": [
       "<Figure size 432x288 with 1 Axes>"
      ]
     },
     "metadata": {
      "needs_background": "light"
     },
     "output_type": "display_data"
    }
   ],
   "source": [
    "hist = ndi.histogram(data[:,:,:],min=0,max=200,bins=200)\n",
    "plt.plot(hist)\n",
    "plt.show()"
   ]
  },
  {
   "cell_type": "markdown",
   "id": "d3823c4a-4f94-4902-a1fc-196a24f7da57",
   "metadata": {},
   "source": [
    "https://sakurachaojun.github.io/PSYO3505/data/bioimage.html"
   ]
  },
  {
   "cell_type": "code",
   "execution_count": null,
   "id": "1c1de9c3-caf2-4c3e-8ac5-84ecebb66ab9",
   "metadata": {},
   "outputs": [],
   "source": []
  }
 ],
 "metadata": {
  "kernelspec": {
   "display_name": "Python 3 (ipykernel)",
   "language": "python",
   "name": "python3"
  },
  "language_info": {
   "codemirror_mode": {
    "name": "ipython",
    "version": 3
   },
   "file_extension": ".py",
   "mimetype": "text/x-python",
   "name": "python",
   "nbconvert_exporter": "python",
   "pygments_lexer": "ipython3",
   "version": "3.9.7"
  }
 },
 "nbformat": 4,
 "nbformat_minor": 5
}
