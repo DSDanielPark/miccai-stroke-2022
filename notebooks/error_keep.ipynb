{
 "cells": [
  {
   "cell_type": "code",
   "execution_count": 10,
   "id": "03f2d2e8-0882-4e1a-aa6d-d29be4ce3930",
   "metadata": {},
   "outputs": [
    {
     "name": "stderr",
     "output_type": "stream",
     "text": [
      "usage: ipykernel_launcher.py [-h] [--task1_data_path TASK1_DATA_PATH] [--task2_data_path TASK2_DATA_PATH]\n",
      "                             [--save_path SAVE_PATH]\n",
      "ipykernel_launcher.py: error: unrecognized arguments: -f C:\\Users\\parkm\\AppData\\Roaming\\jupyter\\runtime\\kernel-49887723-4588-47c1-bdc3-53df7a519060.json\n"
     ]
    },
    {
     "ename": "SystemExit",
     "evalue": "2",
     "output_type": "error",
     "traceback": [
      "An exception has occurred, use %tb to see the full traceback.\n",
      "\u001b[1;31mSystemExit\u001b[0m\u001b[1;31m:\u001b[0m 2\n"
     ]
    }
   ],
   "source": [
    "from EdaNifti import *"
   ]
  },
  {
   "cell_type": "code",
   "execution_count": 4,
   "id": "d5aae637-d3a7-4849-aa8d-38a1e205b0a2",
   "metadata": {},
   "outputs": [
    {
     "ename": "NameError",
     "evalue": "name 'NiftiAnalysis' is not defined",
     "output_type": "error",
     "traceback": [
      "\u001b[1;31m---------------------------------------------------------------------------\u001b[0m",
      "\u001b[1;31mNameError\u001b[0m                                 Traceback (most recent call last)",
      "\u001b[1;32m~\\AppData\\Local\\Temp/ipykernel_19828/651559692.py\u001b[0m in \u001b[0;36m<module>\u001b[1;34m\u001b[0m\n\u001b[1;32m----> 1\u001b[1;33m \u001b[0mNiftiAnalysis\u001b[0m\u001b[1;33m\u001b[0m\u001b[1;33m\u001b[0m\u001b[0m\n\u001b[0m",
      "\u001b[1;31mNameError\u001b[0m: name 'NiftiAnalysis' is not defined"
     ]
    }
   ],
   "source": [
    "NiftiAnalysis"
   ]
  },
  {
   "cell_type": "code",
   "execution_count": 13,
   "id": "163f384d-effb-40e0-9ce7-d6bff1412500",
   "metadata": {},
   "outputs": [],
   "source": [
    "import glob"
   ]
  },
  {
   "cell_type": "code",
   "execution_count": 14,
   "id": "e88c995e-cc00-46e5-9bc9-5e7f68aa61ec",
   "metadata": {},
   "outputs": [
    {
     "name": "stdout",
     "output_type": "stream",
     "text": [
      "[]\n"
     ]
    }
   ],
   "source": [
    "task1_derivateive_file_path = 'C:/Users/parkm/Desktop/github/miccai_stroke_2022/data/task1.stroke_segmentation/dataset-ISLES22^release1 unzipped version/derivatives/**/*.nii.gz'\n",
    "a = glob.glob(repr(task1_derivateive_file_path.strip(\"'\")), recursive=True)\n",
    "print(a)"
   ]
  },
  {
   "cell_type": "code",
   "execution_count": 19,
   "id": "363283c7-356e-4d24-a5e9-9d5ed7a59d80",
   "metadata": {},
   "outputs": [
    {
     "name": "stdout",
     "output_type": "stream",
     "text": [
      "C:/Users/parkm/Desktop/github/miccai_stroke_2022/data/task1.stroke_segmentation/dataset-ISLES22^release1 unzipped version/derivatives/**/*.nii.gz\n",
      "['C:/Users/parkm/Desktop/github/miccai_stroke_2022/data/task1.stroke_segmentation/dataset-ISLES22^release1 unzipped version/derivatives\\\\sub-strokecase0003\\\\ses-0001\\\\sub-strokecase0003_ses-0001_msk.nii.gz', 'C:/Users/parkm/Desktop/github/miccai_stroke_2022/data/task1.stroke_segmentation/dataset-ISLES22^release1 unzipped version/derivatives\\\\sub-strokecase0005\\\\ses-0001\\\\sub-strokecase0005_ses-0001_msk.nii.gz', 'C:/Users/parkm/Desktop/github/miccai_stroke_2022/data/task1.stroke_segmentation/dataset-ISLES22^release1 unzipped version/derivatives\\\\sub-strokecase0010\\\\ses-0001\\\\sub-strokecase0010_ses-0001_msk.nii.gz', 'C:/Users/parkm/Desktop/github/miccai_stroke_2022/data/task1.stroke_segmentation/dataset-ISLES22^release1 unzipped version/derivatives\\\\sub-strokecase0013\\\\ses-0001\\\\sub-strokecase0013_ses-0001_msk.nii.gz', 'C:/Users/parkm/Desktop/github/miccai_stroke_2022/data/task1.stroke_segmentation/dataset-ISLES22^release1 unzipped version/derivatives\\\\sub-strokecase0015\\\\ses-0001\\\\sub-strokecase0015_ses-0001_msk.nii.gz', 'C:/Users/parkm/Desktop/github/miccai_stroke_2022/data/task1.stroke_segmentation/dataset-ISLES22^release1 unzipped version/derivatives\\\\sub-strokecase0016\\\\ses-0001\\\\sub-strokecase0016_ses-0001_msk.nii.gz', 'C:/Users/parkm/Desktop/github/miccai_stroke_2022/data/task1.stroke_segmentation/dataset-ISLES22^release1 unzipped version/derivatives\\\\sub-strokecase0017\\\\ses-0001\\\\sub-strokecase0017_ses-0001_msk.nii.gz', 'C:/Users/parkm/Desktop/github/miccai_stroke_2022/data/task1.stroke_segmentation/dataset-ISLES22^release1 unzipped version/derivatives\\\\sub-strokecase0018\\\\ses-0001\\\\sub-strokecase0018_ses-0001_msk.nii.gz', 'C:/Users/parkm/Desktop/github/miccai_stroke_2022/data/task1.stroke_segmentation/dataset-ISLES22^release1 unzipped version/derivatives\\\\sub-strokecase0020\\\\ses-0001\\\\sub-strokecase0020_ses-0001_msk.nii.gz', 'C:/Users/parkm/Desktop/github/miccai_stroke_2022/data/task1.stroke_segmentation/dataset-ISLES22^release1 unzipped version/derivatives\\\\sub-strokecase0021\\\\ses-0001\\\\sub-strokecase0021_ses-0001_msk.nii.gz', 'C:/Users/parkm/Desktop/github/miccai_stroke_2022/data/task1.stroke_segmentation/dataset-ISLES22^release1 unzipped version/derivatives\\\\sub-strokecase0023\\\\ses-0001\\\\sub-strokecase0023_ses-0001_msk.nii.gz', 'C:/Users/parkm/Desktop/github/miccai_stroke_2022/data/task1.stroke_segmentation/dataset-ISLES22^release1 unzipped version/derivatives\\\\sub-strokecase0024\\\\ses-0001\\\\sub-strokecase0024_ses-0001_msk.nii.gz', 'C:/Users/parkm/Desktop/github/miccai_stroke_2022/data/task1.stroke_segmentation/dataset-ISLES22^release1 unzipped version/derivatives\\\\sub-strokecase0026\\\\ses-0001\\\\sub-strokecase0026_ses-0001_msk.nii.gz', 'C:/Users/parkm/Desktop/github/miccai_stroke_2022/data/task1.stroke_segmentation/dataset-ISLES22^release1 unzipped version/derivatives\\\\sub-strokecase0027\\\\ses-0001\\\\sub-strokecase0027_ses-0001_msk.nii.gz', 'C:/Users/parkm/Desktop/github/miccai_stroke_2022/data/task1.stroke_segmentation/dataset-ISLES22^release1 unzipped version/derivatives\\\\sub-strokecase0028\\\\ses-0001\\\\sub-strokecase0028_ses-0001_msk.nii.gz', 'C:/Users/parkm/Desktop/github/miccai_stroke_2022/data/task1.stroke_segmentation/dataset-ISLES22^release1 unzipped version/derivatives\\\\sub-strokecase0030\\\\ses-0001\\\\sub-strokecase0030_ses-0001_msk.nii.gz', 'C:/Users/parkm/Desktop/github/miccai_stroke_2022/data/task1.stroke_segmentation/dataset-ISLES22^release1 unzipped version/derivatives\\\\sub-strokecase0031\\\\ses-0001\\\\sub-strokecase0031_ses-0001_msk.nii.gz', 'C:/Users/parkm/Desktop/github/miccai_stroke_2022/data/task1.stroke_segmentation/dataset-ISLES22^release1 unzipped version/derivatives\\\\sub-strokecase0032\\\\ses-0001\\\\sub-strokecase0032_ses-0001_msk.nii.gz', 'C:/Users/parkm/Desktop/github/miccai_stroke_2022/data/task1.stroke_segmentation/dataset-ISLES22^release1 unzipped version/derivatives\\\\sub-strokecase0035\\\\ses-0001\\\\sub-strokecase0035_ses-0001_msk.nii.gz', 'C:/Users/parkm/Desktop/github/miccai_stroke_2022/data/task1.stroke_segmentation/dataset-ISLES22^release1 unzipped version/derivatives\\\\sub-strokecase0036\\\\ses-0001\\\\sub-strokecase0036_ses-0001_msk.nii.gz', 'C:/Users/parkm/Desktop/github/miccai_stroke_2022/data/task1.stroke_segmentation/dataset-ISLES22^release1 unzipped version/derivatives\\\\sub-strokecase0037\\\\ses-0001\\\\sub-strokecase0037_ses-0001_msk.nii.gz', 'C:/Users/parkm/Desktop/github/miccai_stroke_2022/data/task1.stroke_segmentation/dataset-ISLES22^release1 unzipped version/derivatives\\\\sub-strokecase0038\\\\ses-0001\\\\sub-strokecase0038_ses-0001_msk.nii.gz', 'C:/Users/parkm/Desktop/github/miccai_stroke_2022/data/task1.stroke_segmentation/dataset-ISLES22^release1 unzipped version/derivatives\\\\sub-strokecase0040\\\\ses-0001\\\\sub-strokecase0040_ses-0001_msk.nii.gz', 'C:/Users/parkm/Desktop/github/miccai_stroke_2022/data/task1.stroke_segmentation/dataset-ISLES22^release1 unzipped version/derivatives\\\\sub-strokecase0042\\\\ses-0001\\\\sub-strokecase0042_ses-0001_msk.nii.gz', 'C:/Users/parkm/Desktop/github/miccai_stroke_2022/data/task1.stroke_segmentation/dataset-ISLES22^release1 unzipped version/derivatives\\\\sub-strokecase0044\\\\ses-0001\\\\sub-strokecase0044_ses-0001_msk.nii.gz', 'C:/Users/parkm/Desktop/github/miccai_stroke_2022/data/task1.stroke_segmentation/dataset-ISLES22^release1 unzipped version/derivatives\\\\sub-strokecase0045\\\\ses-0001\\\\sub-strokecase0045_ses-0001_msk.nii.gz', 'C:/Users/parkm/Desktop/github/miccai_stroke_2022/data/task1.stroke_segmentation/dataset-ISLES22^release1 unzipped version/derivatives\\\\sub-strokecase0046\\\\ses-0001\\\\sub-strokecase0046_ses-0001_msk.nii.gz', 'C:/Users/parkm/Desktop/github/miccai_stroke_2022/data/task1.stroke_segmentation/dataset-ISLES22^release1 unzipped version/derivatives\\\\sub-strokecase0047\\\\ses-0001\\\\sub-strokecase0047_ses-0001_msk.nii.gz', 'C:/Users/parkm/Desktop/github/miccai_stroke_2022/data/task1.stroke_segmentation/dataset-ISLES22^release1 unzipped version/derivatives\\\\sub-strokecase0054\\\\ses-0001\\\\sub-strokecase0054_ses-0001_msk.nii.gz', 'C:/Users/parkm/Desktop/github/miccai_stroke_2022/data/task1.stroke_segmentation/dataset-ISLES22^release1 unzipped version/derivatives\\\\sub-strokecase0055\\\\ses-0001\\\\sub-strokecase0055_ses-0001_msk.nii.gz', 'C:/Users/parkm/Desktop/github/miccai_stroke_2022/data/task1.stroke_segmentation/dataset-ISLES22^release1 unzipped version/derivatives\\\\sub-strokecase0056\\\\ses-0001\\\\sub-strokecase0056_ses-0001_msk.nii.gz', 'C:/Users/parkm/Desktop/github/miccai_stroke_2022/data/task1.stroke_segmentation/dataset-ISLES22^release1 unzipped version/derivatives\\\\sub-strokecase0057\\\\ses-0001\\\\sub-strokecase0057_ses-0001_msk.nii.gz', 'C:/Users/parkm/Desktop/github/miccai_stroke_2022/data/task1.stroke_segmentation/dataset-ISLES22^release1 unzipped version/derivatives\\\\sub-strokecase0058\\\\ses-0001\\\\sub-strokecase0058_ses-0001_msk.nii.gz', 'C:/Users/parkm/Desktop/github/miccai_stroke_2022/data/task1.stroke_segmentation/dataset-ISLES22^release1 unzipped version/derivatives\\\\sub-strokecase0062\\\\ses-0001\\\\sub-strokecase0062_ses-0001_msk.nii.gz', 'C:/Users/parkm/Desktop/github/miccai_stroke_2022/data/task1.stroke_segmentation/dataset-ISLES22^release1 unzipped version/derivatives\\\\sub-strokecase0063\\\\ses-0001\\\\sub-strokecase0063_ses-0001_msk.nii.gz', 'C:/Users/parkm/Desktop/github/miccai_stroke_2022/data/task1.stroke_segmentation/dataset-ISLES22^release1 unzipped version/derivatives\\\\sub-strokecase0064\\\\ses-0001\\\\sub-strokecase0064_ses-0001_msk.nii.gz', 'C:/Users/parkm/Desktop/github/miccai_stroke_2022/data/task1.stroke_segmentation/dataset-ISLES22^release1 unzipped version/derivatives\\\\sub-strokecase0066\\\\ses-0001\\\\sub-strokecase0066_ses-0001_msk.nii.gz', 'C:/Users/parkm/Desktop/github/miccai_stroke_2022/data/task1.stroke_segmentation/dataset-ISLES22^release1 unzipped version/derivatives\\\\sub-strokecase0068\\\\ses-0001\\\\sub-strokecase0068_ses-0001_msk.nii.gz', 'C:/Users/parkm/Desktop/github/miccai_stroke_2022/data/task1.stroke_segmentation/dataset-ISLES22^release1 unzipped version/derivatives\\\\sub-strokecase0072\\\\ses-0001\\\\sub-strokecase0072_ses-0001_msk.nii.gz', 'C:/Users/parkm/Desktop/github/miccai_stroke_2022/data/task1.stroke_segmentation/dataset-ISLES22^release1 unzipped version/derivatives\\\\sub-strokecase0073\\\\ses-0001\\\\sub-strokecase0073_ses-0001_msk.nii.gz', 'C:/Users/parkm/Desktop/github/miccai_stroke_2022/data/task1.stroke_segmentation/dataset-ISLES22^release1 unzipped version/derivatives\\\\sub-strokecase0074\\\\ses-0001\\\\sub-strokecase0074_ses-0001_msk.nii.gz', 'C:/Users/parkm/Desktop/github/miccai_stroke_2022/data/task1.stroke_segmentation/dataset-ISLES22^release1 unzipped version/derivatives\\\\sub-strokecase0075\\\\ses-0001\\\\sub-strokecase0075_ses-0001_msk.nii.gz', 'C:/Users/parkm/Desktop/github/miccai_stroke_2022/data/task1.stroke_segmentation/dataset-ISLES22^release1 unzipped version/derivatives\\\\sub-strokecase0077\\\\ses-0001\\\\sub-strokecase0077_ses-0001_msk.nii.gz', 'C:/Users/parkm/Desktop/github/miccai_stroke_2022/data/task1.stroke_segmentation/dataset-ISLES22^release1 unzipped version/derivatives\\\\sub-strokecase0079\\\\ses-0001\\\\sub-strokecase0079_ses-0001_msk.nii.gz', 'C:/Users/parkm/Desktop/github/miccai_stroke_2022/data/task1.stroke_segmentation/dataset-ISLES22^release1 unzipped version/derivatives\\\\sub-strokecase0080\\\\ses-0001\\\\sub-strokecase0080_ses-0001_msk.nii.gz', 'C:/Users/parkm/Desktop/github/miccai_stroke_2022/data/task1.stroke_segmentation/dataset-ISLES22^release1 unzipped version/derivatives\\\\sub-strokecase0081\\\\ses-0001\\\\sub-strokecase0081_ses-0001_msk.nii.gz', 'C:/Users/parkm/Desktop/github/miccai_stroke_2022/data/task1.stroke_segmentation/dataset-ISLES22^release1 unzipped version/derivatives\\\\sub-strokecase0084\\\\ses-0001\\\\sub-strokecase0084_ses-0001_msk.nii.gz', 'C:/Users/parkm/Desktop/github/miccai_stroke_2022/data/task1.stroke_segmentation/dataset-ISLES22^release1 unzipped version/derivatives\\\\sub-strokecase0086\\\\ses-0001\\\\sub-strokecase0086_ses-0001_msk.nii.gz', 'C:/Users/parkm/Desktop/github/miccai_stroke_2022/data/task1.stroke_segmentation/dataset-ISLES22^release1 unzipped version/derivatives\\\\sub-strokecase0087\\\\ses-0001\\\\sub-strokecase0087_ses-0001_msk.nii.gz', 'C:/Users/parkm/Desktop/github/miccai_stroke_2022/data/task1.stroke_segmentation/dataset-ISLES22^release1 unzipped version/derivatives\\\\sub-strokecase0088\\\\ses-0001\\\\sub-strokecase0088_ses-0001_msk.nii.gz', 'C:/Users/parkm/Desktop/github/miccai_stroke_2022/data/task1.stroke_segmentation/dataset-ISLES22^release1 unzipped version/derivatives\\\\sub-strokecase0090\\\\ses-0001\\\\sub-strokecase0090_ses-0001_msk.nii.gz', 'C:/Users/parkm/Desktop/github/miccai_stroke_2022/data/task1.stroke_segmentation/dataset-ISLES22^release1 unzipped version/derivatives\\\\sub-strokecase0091\\\\ses-0001\\\\sub-strokecase0091_ses-0001_msk.nii.gz', 'C:/Users/parkm/Desktop/github/miccai_stroke_2022/data/task1.stroke_segmentation/dataset-ISLES22^release1 unzipped version/derivatives\\\\sub-strokecase0092\\\\ses-0001\\\\sub-strokecase0092_ses-0001_msk.nii.gz', 'C:/Users/parkm/Desktop/github/miccai_stroke_2022/data/task1.stroke_segmentation/dataset-ISLES22^release1 unzipped version/derivatives\\\\sub-strokecase0093\\\\ses-0001\\\\sub-strokecase0093_ses-0001_msk.nii.gz', 'C:/Users/parkm/Desktop/github/miccai_stroke_2022/data/task1.stroke_segmentation/dataset-ISLES22^release1 unzipped version/derivatives\\\\sub-strokecase0095\\\\ses-0001\\\\sub-strokecase0095_ses-0001_msk.nii.gz', 'C:/Users/parkm/Desktop/github/miccai_stroke_2022/data/task1.stroke_segmentation/dataset-ISLES22^release1 unzipped version/derivatives\\\\sub-strokecase0096\\\\ses-0001\\\\sub-strokecase0096_ses-0001_msk.nii.gz', 'C:/Users/parkm/Desktop/github/miccai_stroke_2022/data/task1.stroke_segmentation/dataset-ISLES22^release1 unzipped version/derivatives\\\\sub-strokecase0097\\\\ses-0001\\\\sub-strokecase0097_ses-0001_msk.nii.gz', 'C:/Users/parkm/Desktop/github/miccai_stroke_2022/data/task1.stroke_segmentation/dataset-ISLES22^release1 unzipped version/derivatives\\\\sub-strokecase0099\\\\ses-0001\\\\sub-strokecase0099_ses-0001_msk.nii.gz', 'C:/Users/parkm/Desktop/github/miccai_stroke_2022/data/task1.stroke_segmentation/dataset-ISLES22^release1 unzipped version/derivatives\\\\sub-strokecase0100\\\\ses-0001\\\\sub-strokecase0100_ses-0001_msk.nii.gz', 'C:/Users/parkm/Desktop/github/miccai_stroke_2022/data/task1.stroke_segmentation/dataset-ISLES22^release1 unzipped version/derivatives\\\\sub-strokecase0101\\\\ses-0001\\\\sub-strokecase0101_ses-0001_msk.nii.gz', 'C:/Users/parkm/Desktop/github/miccai_stroke_2022/data/task1.stroke_segmentation/dataset-ISLES22^release1 unzipped version/derivatives\\\\sub-strokecase0103\\\\ses-0001\\\\sub-strokecase0103_ses-0001_msk.nii.gz', 'C:/Users/parkm/Desktop/github/miccai_stroke_2022/data/task1.stroke_segmentation/dataset-ISLES22^release1 unzipped version/derivatives\\\\sub-strokecase0107\\\\ses-0001\\\\sub-strokecase0107_ses-0001_msk.nii.gz', 'C:/Users/parkm/Desktop/github/miccai_stroke_2022/data/task1.stroke_segmentation/dataset-ISLES22^release1 unzipped version/derivatives\\\\sub-strokecase0108\\\\ses-0001\\\\sub-strokecase0108_ses-0001_msk.nii.gz', 'C:/Users/parkm/Desktop/github/miccai_stroke_2022/data/task1.stroke_segmentation/dataset-ISLES22^release1 unzipped version/derivatives\\\\sub-strokecase0110\\\\ses-0001\\\\sub-strokecase0110_ses-0001_msk.nii.gz', 'C:/Users/parkm/Desktop/github/miccai_stroke_2022/data/task1.stroke_segmentation/dataset-ISLES22^release1 unzipped version/derivatives\\\\sub-strokecase0111\\\\ses-0001\\\\sub-strokecase0111_ses-0001_msk.nii.gz', 'C:/Users/parkm/Desktop/github/miccai_stroke_2022/data/task1.stroke_segmentation/dataset-ISLES22^release1 unzipped version/derivatives\\\\sub-strokecase0114\\\\ses-0001\\\\sub-strokecase0114_ses-0001_msk.nii.gz', 'C:/Users/parkm/Desktop/github/miccai_stroke_2022/data/task1.stroke_segmentation/dataset-ISLES22^release1 unzipped version/derivatives\\\\sub-strokecase0115\\\\ses-0001\\\\sub-strokecase0115_ses-0001_msk.nii.gz', 'C:/Users/parkm/Desktop/github/miccai_stroke_2022/data/task1.stroke_segmentation/dataset-ISLES22^release1 unzipped version/derivatives\\\\sub-strokecase0117\\\\ses-0001\\\\sub-strokecase0117_ses-0001_msk.nii.gz', 'C:/Users/parkm/Desktop/github/miccai_stroke_2022/data/task1.stroke_segmentation/dataset-ISLES22^release1 unzipped version/derivatives\\\\sub-strokecase0118\\\\ses-0001\\\\sub-strokecase0118_ses-0001_msk.nii.gz', 'C:/Users/parkm/Desktop/github/miccai_stroke_2022/data/task1.stroke_segmentation/dataset-ISLES22^release1 unzipped version/derivatives\\\\sub-strokecase0119\\\\ses-0001\\\\sub-strokecase0119_ses-0001_msk.nii.gz', 'C:/Users/parkm/Desktop/github/miccai_stroke_2022/data/task1.stroke_segmentation/dataset-ISLES22^release1 unzipped version/derivatives\\\\sub-strokecase0121\\\\ses-0001\\\\sub-strokecase0121_ses-0001_msk.nii.gz', 'C:/Users/parkm/Desktop/github/miccai_stroke_2022/data/task1.stroke_segmentation/dataset-ISLES22^release1 unzipped version/derivatives\\\\sub-strokecase0122\\\\ses-0001\\\\sub-strokecase0122_ses-0001_msk.nii.gz', 'C:/Users/parkm/Desktop/github/miccai_stroke_2022/data/task1.stroke_segmentation/dataset-ISLES22^release1 unzipped version/derivatives\\\\sub-strokecase0123\\\\ses-0001\\\\sub-strokecase0123_ses-0001_msk.nii.gz', 'C:/Users/parkm/Desktop/github/miccai_stroke_2022/data/task1.stroke_segmentation/dataset-ISLES22^release1 unzipped version/derivatives\\\\sub-strokecase0124\\\\ses-0001\\\\sub-strokecase0124_ses-0001_msk.nii.gz', 'C:/Users/parkm/Desktop/github/miccai_stroke_2022/data/task1.stroke_segmentation/dataset-ISLES22^release1 unzipped version/derivatives\\\\sub-strokecase0125\\\\ses-0001\\\\sub-strokecase0125_ses-0001_msk.nii.gz', 'C:/Users/parkm/Desktop/github/miccai_stroke_2022/data/task1.stroke_segmentation/dataset-ISLES22^release1 unzipped version/derivatives\\\\sub-strokecase0126\\\\ses-0001\\\\sub-strokecase0126_ses-0001_msk.nii.gz', 'C:/Users/parkm/Desktop/github/miccai_stroke_2022/data/task1.stroke_segmentation/dataset-ISLES22^release1 unzipped version/derivatives\\\\sub-strokecase0127\\\\ses-0001\\\\sub-strokecase0127_ses-0001_msk.nii.gz', 'C:/Users/parkm/Desktop/github/miccai_stroke_2022/data/task1.stroke_segmentation/dataset-ISLES22^release1 unzipped version/derivatives\\\\sub-strokecase0128\\\\ses-0001\\\\sub-strokecase0128_ses-0001_msk.nii.gz', 'C:/Users/parkm/Desktop/github/miccai_stroke_2022/data/task1.stroke_segmentation/dataset-ISLES22^release1 unzipped version/derivatives\\\\sub-strokecase0129\\\\ses-0001\\\\sub-strokecase0129_ses-0001_msk.nii.gz', 'C:/Users/parkm/Desktop/github/miccai_stroke_2022/data/task1.stroke_segmentation/dataset-ISLES22^release1 unzipped version/derivatives\\\\sub-strokecase0132\\\\ses-0001\\\\sub-strokecase0132_ses-0001_msk.nii.gz', 'C:/Users/parkm/Desktop/github/miccai_stroke_2022/data/task1.stroke_segmentation/dataset-ISLES22^release1 unzipped version/derivatives\\\\sub-strokecase0133\\\\ses-0001\\\\sub-strokecase0133_ses-0001_msk.nii.gz', 'C:/Users/parkm/Desktop/github/miccai_stroke_2022/data/task1.stroke_segmentation/dataset-ISLES22^release1 unzipped version/derivatives\\\\sub-strokecase0134\\\\ses-0001\\\\sub-strokecase0134_ses-0001_msk.nii.gz', 'C:/Users/parkm/Desktop/github/miccai_stroke_2022/data/task1.stroke_segmentation/dataset-ISLES22^release1 unzipped version/derivatives\\\\sub-strokecase0135\\\\ses-0001\\\\sub-strokecase0135_ses-0001_msk.nii.gz', 'C:/Users/parkm/Desktop/github/miccai_stroke_2022/data/task1.stroke_segmentation/dataset-ISLES22^release1 unzipped version/derivatives\\\\sub-strokecase0136\\\\ses-0001\\\\sub-strokecase0136_ses-0001_msk.nii.gz', 'C:/Users/parkm/Desktop/github/miccai_stroke_2022/data/task1.stroke_segmentation/dataset-ISLES22^release1 unzipped version/derivatives\\\\sub-strokecase0138\\\\ses-0001\\\\sub-strokecase0138_ses-0001_msk.nii.gz', 'C:/Users/parkm/Desktop/github/miccai_stroke_2022/data/task1.stroke_segmentation/dataset-ISLES22^release1 unzipped version/derivatives\\\\sub-strokecase0139\\\\ses-0001\\\\sub-strokecase0139_ses-0001_msk.nii.gz', 'C:/Users/parkm/Desktop/github/miccai_stroke_2022/data/task1.stroke_segmentation/dataset-ISLES22^release1 unzipped version/derivatives\\\\sub-strokecase0141\\\\ses-0001\\\\sub-strokecase0141_ses-0001_msk.nii.gz', 'C:/Users/parkm/Desktop/github/miccai_stroke_2022/data/task1.stroke_segmentation/dataset-ISLES22^release1 unzipped version/derivatives\\\\sub-strokecase0144\\\\ses-0001\\\\sub-strokecase0144_ses-0001_msk.nii.gz', 'C:/Users/parkm/Desktop/github/miccai_stroke_2022/data/task1.stroke_segmentation/dataset-ISLES22^release1 unzipped version/derivatives\\\\sub-strokecase0146\\\\ses-0001\\\\sub-strokecase0146_ses-0001_msk.nii.gz', 'C:/Users/parkm/Desktop/github/miccai_stroke_2022/data/task1.stroke_segmentation/dataset-ISLES22^release1 unzipped version/derivatives\\\\sub-strokecase0148\\\\ses-0001\\\\sub-strokecase0148_ses-0001_msk.nii.gz']\n"
     ]
    }
   ],
   "source": [
    "task1_derivateive_file_path = 'C:/Users/parkm/Desktop/github/miccai_stroke_2022/data/task1.stroke_segmentation/dataset-ISLES22^release1 unzipped version/derivatives/**/*.nii.gz'\n",
    "print(task1_derivateive_file_path.strip(\"'\"))\n",
    "a = glob.glob(r\"{}\".format(task1_derivateive_file_path), recursive=True)\n",
    "print(a)"
   ]
  },
  {
   "cell_type": "code",
   "execution_count": 17,
   "id": "9ce69ca8-fc23-4a0c-9cc1-f9a3cdc6a15a",
   "metadata": {},
   "outputs": [
    {
     "data": {
      "text/plain": [
       "'C:/Users/parkm/Desktop/github/miccai_stroke_2022/data/task1.stroke_segmentation/dataset-ISLES22^release1 unzipped version/derivatives/**/*.nii.gz'"
      ]
     },
     "execution_count": 17,
     "metadata": {},
     "output_type": "execute_result"
    }
   ],
   "source": [
    "task1_derivateive_file_path"
   ]
  },
  {
   "cell_type": "code",
   "execution_count": null,
   "id": "24d8988c-290c-40e5-9a8b-a411ec5c915e",
   "metadata": {},
   "outputs": [],
   "source": []
  }
 ],
 "metadata": {
  "kernelspec": {
   "display_name": "Python 3 (ipykernel)",
   "language": "python",
   "name": "python3"
  },
  "language_info": {
   "codemirror_mode": {
    "name": "ipython",
    "version": 3
   },
   "file_extension": ".py",
   "mimetype": "text/x-python",
   "name": "python",
   "nbconvert_exporter": "python",
   "pygments_lexer": "ipython3",
   "version": "3.9.7"
  }
 },
 "nbformat": 4,
 "nbformat_minor": 5
}
