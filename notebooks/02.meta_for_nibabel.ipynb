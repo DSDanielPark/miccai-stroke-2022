{
 "cells": [
  {
   "cell_type": "markdown",
   "id": "89aaaa4e-eef6-4d91-aad4-d6a3cf9da68a",
   "metadata": {},
   "source": [
    "!pip install nibabel"
   ]
  },
  {
   "cell_type": "code",
   "execution_count": 90,
   "id": "c3d157fa-0115-4dbe-88c7-8b9900c5b7d0",
   "metadata": {},
   "outputs": [],
   "source": [
    "import glob\n",
    "import os, sys\n",
    "import nibabel as nib \n",
    "import pandas as pd\n",
    "import numpy as np\n",
    "import matplotlib.pyplot as plt\n",
    "from io import StringIO\n",
    "\n",
    "def save_print_instance(*message):\n",
    "    io = StringIO()\n",
    "    print(*message, file=io, end=\"\")\n",
    "    return io.getvalue()"
   ]
  },
  {
   "cell_type": "code",
   "execution_count": 26,
   "id": "1784891c-2119-4a04-b98c-472a08bfefd0",
   "metadata": {},
   "outputs": [],
   "source": [
    "task1_derivatives_nii = glob.glob(r'C:/Users/parkm/Desktop/github/miccai_stroke_2022/data/task1.stroke_segmentation/dataset-ISLES22^release1 unzipped version/derivatives/**/*.nii.gz', recursive=True)"
   ]
  },
  {
   "cell_type": "code",
   "execution_count": 27,
   "id": "3a1b758f-542f-4c87-852d-33070ee2f954",
   "metadata": {
    "tags": []
   },
   "outputs": [],
   "source": [
    "task1_rawdata_nii = glob.glob(r'C:/Users/parkm/Desktop/github/miccai_stroke_2022/data/task1.stroke_segmentation/dataset-ISLES22^release1 unzipped version/rawdata/**/*.nii.gz', recursive=True)"
   ]
  },
  {
   "cell_type": "code",
   "execution_count": 28,
   "id": "e2eba85b-1f90-433b-a0c5-56388a3eea06",
   "metadata": {},
   "outputs": [],
   "source": [
    "task2_test_data = glob.glob(r'C:/Users/parkm/Desktop/github/miccai_stroke_2022/data/task2.ATLAS_2.0/ATLAS_2/Testing/**/**/**/**/*.nii.gz', recursive=True)"
   ]
  },
  {
   "cell_type": "code",
   "execution_count": 29,
   "id": "5e8f9496-4e66-4cd6-bf0b-882838938910",
   "metadata": {},
   "outputs": [],
   "source": [
    "task2_train_data = glob.glob(r'C:/Users/parkm/Desktop/github/miccai_stroke_2022/data/task2.ATLAS_2.0/ATLAS_2/Training/**/**/**/**/*.nii.gz', recursive=True)"
   ]
  },
  {
   "cell_type": "code",
   "execution_count": 44,
   "id": "37db8ed5-2a21-4661-97cc-2d519f9f37ca",
   "metadata": {},
   "outputs": [],
   "source": [
    "total_dict = dict()"
   ]
  },
  {
   "cell_type": "code",
   "execution_count": 154,
   "id": "f3d40cdb-5c79-4837-a5b1-0bd38f0ac4c2",
   "metadata": {},
   "outputs": [],
   "source": [
    "def save_summary_table(globed_nifti_file_paths, save_full_path_with_file_name):\n",
    "    total_dict = dict()\n",
    "\n",
    "    for i, nifti_path in enumerate(globed_nifti_file_paths):\n",
    "        #print(i)\n",
    "        #print(nifti_path)\n",
    "        temp_dict = dict()\n",
    "        \n",
    "        img = nib.load(nifti_path)\n",
    "        \n",
    "\n",
    "        file_name = nifti_path.split('\\\\')[-1].rstrip('.nii.gz')\n",
    "        temp_dict['file_name'] = file_name\n",
    "        temp_dict['data_dtype'] = img.get_data_dtype()\n",
    "\n",
    "        \n",
    "        temp_dict['nifti_img_shape'] = img.shape\n",
    "\n",
    "        img.get_data_dtype()\n",
    "\n",
    "        temp_dict['img_affine_shape'] = img.affine.shape\n",
    "        temp_dict['img_affine_metrix'] = np.round(img.affine)\n",
    "\n",
    "\n",
    "        hdr = img.header\n",
    "        hdr_info = save_print_instance(hdr)\n",
    "\n",
    "        temp_dict['hdr_info'] = hdr_info.strip(\"<class 'nibabel.nifti1.Nifti1Header'> object, \")\n",
    "        temp_dict['hdr.get_xyzt_units'] = hdr.get_xyzt_units()\n",
    "\n",
    "        raw = hdr.structarr\n",
    "        temp_dict['hdr_raw'] = raw\n",
    "        temp_dict['3d_array_mean'] = img_array.mean()\n",
    "        temp_dict['3d_array_std'] = img_array.std()\n",
    "        temp_dict['3d_array_min'] = img_array.min()\n",
    "        temp_dict['3d_array_max'] = img_array.min()\n",
    "\n",
    "    total_dict[i] = temp_dict\n",
    "        \n",
    "    df_summary = pd.DataFrame(total_dict).T\n",
    "    df_summary.to_csv(save_full_path_with_file_name)\n",
    "        \n",
    "    return None"
   ]
  },
  {
   "cell_type": "code",
   "execution_count": 155,
   "id": "0d12e7a6-0398-4e60-a083-b1884373f939",
   "metadata": {},
   "outputs": [],
   "source": [
    "save_summary_table(task1_derivatives_nii, './task1_derivatives_nii.csv')"
   ]
  },
  {
   "cell_type": "code",
   "execution_count": 156,
   "id": "467f6aee-b208-4619-ae68-2885053d66b1",
   "metadata": {},
   "outputs": [],
   "source": [
    "save_summary_table(task1_rawdata_nii, './task1_rawdata_nii.csv')"
   ]
  },
  {
   "cell_type": "code",
   "execution_count": null,
   "id": "85a7f548-0117-4daf-9cde-49c2f8496a2e",
   "metadata": {},
   "outputs": [],
   "source": [
    "save_summary_table(task2_test_data, './task2_test_data.csv')"
   ]
  },
  {
   "cell_type": "code",
   "execution_count": null,
   "id": "43716ce3-5bad-4778-987f-6220552a906f",
   "metadata": {},
   "outputs": [],
   "source": [
    "save_summary_table(task2_test_data, './task2_train_data.csv')"
   ]
  },
  {
   "cell_type": "code",
   "execution_count": null,
   "id": "64644d8c-a4cd-4414-a0dd-bbb9ddbf5726",
   "metadata": {},
   "outputs": [],
   "source": []
  },
  {
   "cell_type": "code",
   "execution_count": null,
   "id": "ccec5f2f-3a21-4da6-909f-fe4debf370e5",
   "metadata": {},
   "outputs": [],
   "source": []
  },
  {
   "cell_type": "code",
   "execution_count": 141,
   "id": "eed0fb08-f04f-4b16-8f9b-3fa93899e45b",
   "metadata": {},
   "outputs": [
    {
     "data": {
      "text/html": [
       "<div>\n",
       "<style scoped>\n",
       "    .dataframe tbody tr th:only-of-type {\n",
       "        vertical-align: middle;\n",
       "    }\n",
       "\n",
       "    .dataframe tbody tr th {\n",
       "        vertical-align: top;\n",
       "    }\n",
       "\n",
       "    .dataframe thead th {\n",
       "        text-align: right;\n",
       "    }\n",
       "</style>\n",
       "<table border=\"1\" class=\"dataframe\">\n",
       "  <thead>\n",
       "    <tr style=\"text-align: right;\">\n",
       "      <th></th>\n",
       "      <th>file_name</th>\n",
       "      <th>data_dtype</th>\n",
       "      <th>nifti_img_shape</th>\n",
       "      <th>img_affine_shape</th>\n",
       "      <th>img_affine_metrix</th>\n",
       "      <th>hdr_info</th>\n",
       "      <th>hdr.get_xyzt_units</th>\n",
       "      <th>hdr_raw</th>\n",
       "      <th>3d_array_mean</th>\n",
       "      <th>3d_array_std</th>\n",
       "      <th>3d_array_min</th>\n",
       "      <th>3d_array_max</th>\n",
       "    </tr>\n",
       "  </thead>\n",
       "  <tbody>\n",
       "    <tr>\n",
       "      <th>0</th>\n",
       "      <td>sub-strokecase0003_ses-0001_msk</td>\n",
       "      <td>float64</td>\n",
       "      <td>(112, 112, 72)</td>\n",
       "      <td>(4, 4)</td>\n",
       "      <td>[[-2.0, 0.0, -0.0, 123.0], [0.0, 2.0, -1.0, -9...</td>\n",
       "      <td>='&lt;'\\nsizeof_hdr      : 348\\ndata_type       :...</td>\n",
       "      <td>(mm, unknown)</td>\n",
       "      <td>(348, b'', b'', 0, 0, b'r', 0, [  3, 112, 112,...</td>\n",
       "      <td>0.004288</td>\n",
       "      <td>0.065344</td>\n",
       "      <td>0</td>\n",
       "      <td>0</td>\n",
       "    </tr>\n",
       "    <tr>\n",
       "      <th>1</th>\n",
       "      <td>sub-strokecase0005_ses-0001_msk</td>\n",
       "      <td>uint16</td>\n",
       "      <td>(112, 112, 72)</td>\n",
       "      <td>(4, 4)</td>\n",
       "      <td>[[-2.0, -0.0, -0.0, 116.0], [-0.0, 2.0, -0.0, ...</td>\n",
       "      <td>='&lt;'\\nsizeof_hdr      : 348\\ndata_type       :...</td>\n",
       "      <td>(mm, unknown)</td>\n",
       "      <td>(348, b'', b'', 0, 0, b'r', 0, [  3, 112, 112,...</td>\n",
       "      <td>0.004288</td>\n",
       "      <td>0.065344</td>\n",
       "      <td>0</td>\n",
       "      <td>0</td>\n",
       "    </tr>\n",
       "    <tr>\n",
       "      <th>2</th>\n",
       "      <td>sub-strokecase0010_ses-0001_msk</td>\n",
       "      <td>uint16</td>\n",
       "      <td>(112, 112, 72)</td>\n",
       "      <td>(4, 4)</td>\n",
       "      <td>[[-2.0, 0.0, 0.0, 102.0], [0.0, 2.0, -0.0, -89...</td>\n",
       "      <td>='&lt;'\\nsizeof_hdr      : 348\\ndata_type       :...</td>\n",
       "      <td>(mm, unknown)</td>\n",
       "      <td>(348, b'', b'', 0, 0, b'r', 0, [  3, 112, 112,...</td>\n",
       "      <td>0.004288</td>\n",
       "      <td>0.065344</td>\n",
       "      <td>0</td>\n",
       "      <td>0</td>\n",
       "    </tr>\n",
       "    <tr>\n",
       "      <th>3</th>\n",
       "      <td>sub-strokecase0013_ses-0001_msk</td>\n",
       "      <td>uint16</td>\n",
       "      <td>(112, 112, 72)</td>\n",
       "      <td>(4, 4)</td>\n",
       "      <td>[[-2.0, 0.0, 0.0, 106.0], [0.0, 2.0, -1.0, -63...</td>\n",
       "      <td>='&lt;'\\nsizeof_hdr      : 348\\ndata_type       :...</td>\n",
       "      <td>(mm, unknown)</td>\n",
       "      <td>(348, b'', b'', 0, 0, b'r', 0, [  3, 112, 112,...</td>\n",
       "      <td>0.004288</td>\n",
       "      <td>0.065344</td>\n",
       "      <td>0</td>\n",
       "      <td>0</td>\n",
       "    </tr>\n",
       "    <tr>\n",
       "      <th>4</th>\n",
       "      <td>sub-strokecase0015_ses-0001_msk</td>\n",
       "      <td>uint16</td>\n",
       "      <td>(112, 112, 72)</td>\n",
       "      <td>(4, 4)</td>\n",
       "      <td>[[-2.0, -0.0, -0.0, 108.0], [0.0, 2.0, -1.0, -...</td>\n",
       "      <td>='&lt;'\\nsizeof_hdr      : 348\\ndata_type       :...</td>\n",
       "      <td>(mm, unknown)</td>\n",
       "      <td>(348, b'', b'', 0, 0, b'r', 0, [  3, 112, 112,...</td>\n",
       "      <td>0.004288</td>\n",
       "      <td>0.065344</td>\n",
       "      <td>0</td>\n",
       "      <td>0</td>\n",
       "    </tr>\n",
       "    <tr>\n",
       "      <th>...</th>\n",
       "      <td>...</td>\n",
       "      <td>...</td>\n",
       "      <td>...</td>\n",
       "      <td>...</td>\n",
       "      <td>...</td>\n",
       "      <td>...</td>\n",
       "      <td>...</td>\n",
       "      <td>...</td>\n",
       "      <td>...</td>\n",
       "      <td>...</td>\n",
       "      <td>...</td>\n",
       "      <td>...</td>\n",
       "    </tr>\n",
       "    <tr>\n",
       "      <th>85</th>\n",
       "      <td>sub-strokecase0139_ses-0001_msk</td>\n",
       "      <td>float64</td>\n",
       "      <td>(112, 112, 73)</td>\n",
       "      <td>(4, 4)</td>\n",
       "      <td>[[-2.0, -0.0, 0.0, 114.0], [-0.0, 2.0, -1.0, -...</td>\n",
       "      <td>='&lt;'\\nsizeof_hdr      : 348\\ndata_type       :...</td>\n",
       "      <td>(unknown, unknown)</td>\n",
       "      <td>(348, b'', b'', 0, 0, b'', 0, [  3, 112, 112, ...</td>\n",
       "      <td>0.004288</td>\n",
       "      <td>0.065344</td>\n",
       "      <td>0</td>\n",
       "      <td>0</td>\n",
       "    </tr>\n",
       "    <tr>\n",
       "      <th>86</th>\n",
       "      <td>sub-strokecase0141_ses-0001_msk</td>\n",
       "      <td>int64</td>\n",
       "      <td>(112, 112, 73)</td>\n",
       "      <td>(4, 4)</td>\n",
       "      <td>[[-2.0, 0.0, 0.0, 108.0], [-0.0, 2.0, -0.0, -7...</td>\n",
       "      <td>='&lt;'\\nsizeof_hdr      : 348\\ndata_type       :...</td>\n",
       "      <td>(mm, unknown)</td>\n",
       "      <td>(348, b'', b'', 0, 0, b'r', 0, [  3, 112, 112,...</td>\n",
       "      <td>0.004288</td>\n",
       "      <td>0.065344</td>\n",
       "      <td>0</td>\n",
       "      <td>0</td>\n",
       "    </tr>\n",
       "    <tr>\n",
       "      <th>87</th>\n",
       "      <td>sub-strokecase0144_ses-0001_msk</td>\n",
       "      <td>uint16</td>\n",
       "      <td>(112, 112, 73)</td>\n",
       "      <td>(4, 4)</td>\n",
       "      <td>[[-2.0, 0.0, -0.0, 106.0], [0.0, 2.0, 0.0, -96...</td>\n",
       "      <td>='&lt;'\\nsizeof_hdr      : 348\\ndata_type       :...</td>\n",
       "      <td>(mm, unknown)</td>\n",
       "      <td>(348, b'', b'', 0, 0, b'r', 0, [  3, 112, 112,...</td>\n",
       "      <td>0.004288</td>\n",
       "      <td>0.065344</td>\n",
       "      <td>0</td>\n",
       "      <td>0</td>\n",
       "    </tr>\n",
       "    <tr>\n",
       "      <th>88</th>\n",
       "      <td>sub-strokecase0146_ses-0001_msk</td>\n",
       "      <td>float64</td>\n",
       "      <td>(112, 112, 73)</td>\n",
       "      <td>(4, 4)</td>\n",
       "      <td>[[-2.0, -0.0, -0.0, 126.0], [-0.0, 2.0, -1.0, ...</td>\n",
       "      <td>='&lt;'\\nsizeof_hdr      : 348\\ndata_type       :...</td>\n",
       "      <td>(mm, unknown)</td>\n",
       "      <td>(348, b'', b'', 0, 0, b'r', 0, [  3, 112, 112,...</td>\n",
       "      <td>0.004288</td>\n",
       "      <td>0.065344</td>\n",
       "      <td>0</td>\n",
       "      <td>0</td>\n",
       "    </tr>\n",
       "    <tr>\n",
       "      <th>89</th>\n",
       "      <td>sub-strokecase0148_ses-0001_msk</td>\n",
       "      <td>uint16</td>\n",
       "      <td>(112, 112, 73)</td>\n",
       "      <td>(4, 4)</td>\n",
       "      <td>[[-2.0, -0.0, 0.0, 110.0], [-0.0, 2.0, -0.0, -...</td>\n",
       "      <td>='&lt;'\\nsizeof_hdr      : 348\\ndata_type       :...</td>\n",
       "      <td>(mm, unknown)</td>\n",
       "      <td>(348, b'', b'', 0, 0, b'r', 0, [  3, 112, 112,...</td>\n",
       "      <td>0.004288</td>\n",
       "      <td>0.065344</td>\n",
       "      <td>0</td>\n",
       "      <td>0</td>\n",
       "    </tr>\n",
       "  </tbody>\n",
       "</table>\n",
       "<p>90 rows × 12 columns</p>\n",
       "</div>"
      ],
      "text/plain": [
       "                          file_name data_dtype nifti_img_shape  \\\n",
       "0   sub-strokecase0003_ses-0001_msk    float64  (112, 112, 72)   \n",
       "1   sub-strokecase0005_ses-0001_msk     uint16  (112, 112, 72)   \n",
       "2   sub-strokecase0010_ses-0001_msk     uint16  (112, 112, 72)   \n",
       "3   sub-strokecase0013_ses-0001_msk     uint16  (112, 112, 72)   \n",
       "4   sub-strokecase0015_ses-0001_msk     uint16  (112, 112, 72)   \n",
       "..                              ...        ...             ...   \n",
       "85  sub-strokecase0139_ses-0001_msk    float64  (112, 112, 73)   \n",
       "86  sub-strokecase0141_ses-0001_msk      int64  (112, 112, 73)   \n",
       "87  sub-strokecase0144_ses-0001_msk     uint16  (112, 112, 73)   \n",
       "88  sub-strokecase0146_ses-0001_msk    float64  (112, 112, 73)   \n",
       "89  sub-strokecase0148_ses-0001_msk     uint16  (112, 112, 73)   \n",
       "\n",
       "   img_affine_shape                                  img_affine_metrix  \\\n",
       "0            (4, 4)  [[-2.0, 0.0, -0.0, 123.0], [0.0, 2.0, -1.0, -9...   \n",
       "1            (4, 4)  [[-2.0, -0.0, -0.0, 116.0], [-0.0, 2.0, -0.0, ...   \n",
       "2            (4, 4)  [[-2.0, 0.0, 0.0, 102.0], [0.0, 2.0, -0.0, -89...   \n",
       "3            (4, 4)  [[-2.0, 0.0, 0.0, 106.0], [0.0, 2.0, -1.0, -63...   \n",
       "4            (4, 4)  [[-2.0, -0.0, -0.0, 108.0], [0.0, 2.0, -1.0, -...   \n",
       "..              ...                                                ...   \n",
       "85           (4, 4)  [[-2.0, -0.0, 0.0, 114.0], [-0.0, 2.0, -1.0, -...   \n",
       "86           (4, 4)  [[-2.0, 0.0, 0.0, 108.0], [-0.0, 2.0, -0.0, -7...   \n",
       "87           (4, 4)  [[-2.0, 0.0, -0.0, 106.0], [0.0, 2.0, 0.0, -96...   \n",
       "88           (4, 4)  [[-2.0, -0.0, -0.0, 126.0], [-0.0, 2.0, -1.0, ...   \n",
       "89           (4, 4)  [[-2.0, -0.0, 0.0, 110.0], [-0.0, 2.0, -0.0, -...   \n",
       "\n",
       "                                             hdr_info  hdr.get_xyzt_units  \\\n",
       "0   ='<'\\nsizeof_hdr      : 348\\ndata_type       :...       (mm, unknown)   \n",
       "1   ='<'\\nsizeof_hdr      : 348\\ndata_type       :...       (mm, unknown)   \n",
       "2   ='<'\\nsizeof_hdr      : 348\\ndata_type       :...       (mm, unknown)   \n",
       "3   ='<'\\nsizeof_hdr      : 348\\ndata_type       :...       (mm, unknown)   \n",
       "4   ='<'\\nsizeof_hdr      : 348\\ndata_type       :...       (mm, unknown)   \n",
       "..                                                ...                 ...   \n",
       "85  ='<'\\nsizeof_hdr      : 348\\ndata_type       :...  (unknown, unknown)   \n",
       "86  ='<'\\nsizeof_hdr      : 348\\ndata_type       :...       (mm, unknown)   \n",
       "87  ='<'\\nsizeof_hdr      : 348\\ndata_type       :...       (mm, unknown)   \n",
       "88  ='<'\\nsizeof_hdr      : 348\\ndata_type       :...       (mm, unknown)   \n",
       "89  ='<'\\nsizeof_hdr      : 348\\ndata_type       :...       (mm, unknown)   \n",
       "\n",
       "                                              hdr_raw 3d_array_mean  \\\n",
       "0   (348, b'', b'', 0, 0, b'r', 0, [  3, 112, 112,...      0.004288   \n",
       "1   (348, b'', b'', 0, 0, b'r', 0, [  3, 112, 112,...      0.004288   \n",
       "2   (348, b'', b'', 0, 0, b'r', 0, [  3, 112, 112,...      0.004288   \n",
       "3   (348, b'', b'', 0, 0, b'r', 0, [  3, 112, 112,...      0.004288   \n",
       "4   (348, b'', b'', 0, 0, b'r', 0, [  3, 112, 112,...      0.004288   \n",
       "..                                                ...           ...   \n",
       "85  (348, b'', b'', 0, 0, b'', 0, [  3, 112, 112, ...      0.004288   \n",
       "86  (348, b'', b'', 0, 0, b'r', 0, [  3, 112, 112,...      0.004288   \n",
       "87  (348, b'', b'', 0, 0, b'r', 0, [  3, 112, 112,...      0.004288   \n",
       "88  (348, b'', b'', 0, 0, b'r', 0, [  3, 112, 112,...      0.004288   \n",
       "89  (348, b'', b'', 0, 0, b'r', 0, [  3, 112, 112,...      0.004288   \n",
       "\n",
       "   3d_array_std 3d_array_min 3d_array_max  \n",
       "0      0.065344            0            0  \n",
       "1      0.065344            0            0  \n",
       "2      0.065344            0            0  \n",
       "3      0.065344            0            0  \n",
       "4      0.065344            0            0  \n",
       "..          ...          ...          ...  \n",
       "85     0.065344            0            0  \n",
       "86     0.065344            0            0  \n",
       "87     0.065344            0            0  \n",
       "88     0.065344            0            0  \n",
       "89     0.065344            0            0  \n",
       "\n",
       "[90 rows x 12 columns]"
      ]
     },
     "execution_count": 141,
     "metadata": {},
     "output_type": "execute_result"
    }
   ],
   "source": [
    "pd.DataFrame(total_dict).T"
   ]
  },
  {
   "cell_type": "code",
   "execution_count": 132,
   "id": "9e7548b7-8c34-49bc-ab91-439322229457",
   "metadata": {},
   "outputs": [],
   "source": [
    "# img 객체에 nii.gz 파일 경로 입력해서 열기\n",
    "img = nib.load(task1_derivatives_nii[3])"
   ]
  },
  {
   "cell_type": "code",
   "execution_count": 31,
   "id": "f4610cce-2c37-4b2b-b913-8627fefaf221",
   "metadata": {},
   "outputs": [
    {
     "data": {
      "text/plain": [
       "(112, 112, 72)"
      ]
     },
     "execution_count": 31,
     "metadata": {},
     "output_type": "execute_result"
    }
   ],
   "source": [
    "# shape 확인하기\n",
    "img.shape"
   ]
  },
  {
   "cell_type": "code",
   "execution_count": 115,
   "id": "0f298374-d589-442f-bd9c-3c9854403b9f",
   "metadata": {},
   "outputs": [
    {
     "name": "stderr",
     "output_type": "stream",
     "text": [
      "C:\\Users\\parkm\\AppData\\Local\\Temp/ipykernel_8380/1885271522.py:2: DeprecationWarning: get_data() is deprecated in favor of get_fdata(), which has a more predictable return type. To obtain get_data() behavior going forward, use numpy.asanyarray(img.dataobj).\n",
      "\n",
      "* deprecated from version: 3.0\n",
      "* Will raise <class 'nibabel.deprecator.ExpiredDeprecationError'> as of version: 5.0\n",
      "  img_array = img.get_data()\n"
     ]
    }
   ],
   "source": [
    "# dtype 확인하기\n",
    "img_array = img.get_data()"
   ]
  },
  {
   "cell_type": "code",
   "execution_count": 133,
   "id": "01dfd709-62fd-434c-8e8f-208f717262e6",
   "metadata": {},
   "outputs": [
    {
     "data": {
      "text/plain": [
       "0.004288238732993197"
      ]
     },
     "execution_count": 133,
     "metadata": {},
     "output_type": "execute_result"
    }
   ],
   "source": [
    "img_array[:,:,:].mean()"
   ]
  },
  {
   "cell_type": "code",
   "execution_count": 135,
   "id": "f3385eee-b6e3-474c-8afc-db98c851b48f",
   "metadata": {},
   "outputs": [
    {
     "data": {
      "text/plain": [
       "0.06534408727315771"
      ]
     },
     "execution_count": 135,
     "metadata": {},
     "output_type": "execute_result"
    }
   ],
   "source": [
    "img_array.std()"
   ]
  },
  {
   "cell_type": "code",
   "execution_count": 111,
   "id": "ad2cf052-b955-4155-acea-839671acf25d",
   "metadata": {},
   "outputs": [
    {
     "data": {
      "text/plain": [
       "dtype('<u2')"
      ]
     },
     "execution_count": 111,
     "metadata": {},
     "output_type": "execute_result"
    }
   ],
   "source": [
    "img.get_data_dtype()"
   ]
  },
  {
   "cell_type": "code",
   "execution_count": null,
   "id": "dec81eb5-ff44-484f-9d41-442f0be624f3",
   "metadata": {},
   "outputs": [],
   "source": []
  },
  {
   "cell_type": "code",
   "execution_count": null,
   "id": "64e64472-05bd-4766-b2a4-b2dd5144d02d",
   "metadata": {},
   "outputs": [],
   "source": []
  },
  {
   "cell_type": "code",
   "execution_count": null,
   "id": "8d6736e6-7cd7-4e8e-b054-d529f084ed7a",
   "metadata": {},
   "outputs": [],
   "source": []
  },
  {
   "cell_type": "code",
   "execution_count": 48,
   "id": "361d1d6f-1f43-4ce5-8eb4-58ced1c9f0f4",
   "metadata": {},
   "outputs": [
    {
     "data": {
      "text/plain": [
       "(4, 4)"
      ]
     },
     "execution_count": 48,
     "metadata": {},
     "output_type": "execute_result"
    }
   ],
   "source": [
    "# 이미지의 affine metrix 확인하기\n",
    "img.affine.shape"
   ]
  },
  {
   "cell_type": "code",
   "execution_count": 54,
   "id": "a34f1775-a05c-4d4b-8e2c-1368821edb24",
   "metadata": {},
   "outputs": [
    {
     "data": {
      "text/plain": [
       "array([[ -2.,   0.,  -0., 123.],\n",
       "       [  0.,   2.,  -1., -90.],\n",
       "       [ -0.,   1.,   2., -82.],\n",
       "       [  0.,   0.,   0.,   1.]])"
      ]
     },
     "execution_count": 54,
     "metadata": {},
     "output_type": "execute_result"
    }
   ],
   "source": [
    "np.round(img.affine)"
   ]
  },
  {
   "cell_type": "code",
   "execution_count": 55,
   "id": "f9605547-89ee-47c9-9a8b-f44c593d68ac",
   "metadata": {},
   "outputs": [],
   "source": [
    "# nifti 이미지 헤더 확인하기\n",
    "hdr = img.header"
   ]
  },
  {
   "cell_type": "code",
   "execution_count": 86,
   "id": "fce268e8-a9df-4c6c-acac-df992fa76126",
   "metadata": {},
   "outputs": [
    {
     "data": {
      "text/plain": [
       "<nibabel.nifti1.Nifti1Header at 0x1977bfadc40>"
      ]
     },
     "execution_count": 86,
     "metadata": {},
     "output_type": "execute_result"
    }
   ],
   "source": [
    "hdr"
   ]
  },
  {
   "cell_type": "code",
   "execution_count": 89,
   "id": "d622ee2e-a01c-4792-aa8c-23b0986237bd",
   "metadata": {},
   "outputs": [],
   "source": [
    "\n",
    "\n",
    "hdr_info = save_print_instance(hdr)\n"
   ]
  },
  {
   "cell_type": "code",
   "execution_count": 142,
   "id": "1039ba49-6ac3-4fea-a0d1-000daa21b489",
   "metadata": {},
   "outputs": [
    {
     "data": {
      "text/plain": [
       "\"<class 'nibabel.nifti1.Nifti1Header'> object, endian='<'\\nsizeof_hdr      : 348\\ndata_type       : b''\\ndb_name         : b''\\nextents         : 0\\nsession_error   : 0\\nregular         : b'r'\\ndim_info        : 0\\ndim             : [  3 112 112  73   1   1   1   1]\\nintent_p1       : 0.0\\nintent_p2       : 0.0\\nintent_p3       : 0.0\\nintent_code     : none\\ndatatype        : float64\\nbitpix          : 64\\nslice_start     : 0\\npixdim          : [-1.  2.  2.  2.  0.  0.  0.  0.]\\nvox_offset      : 0.0\\nscl_slope       : nan\\nscl_inter       : nan\\nslice_end       : 0\\nslice_code      : unknown\\nxyzt_units      : 2\\ncal_max         : 0.0\\ncal_min         : 0.0\\nslice_duration  : 0.0\\ntoffset         : 0.0\\nglmax           : 0\\nglmin           : 0\\ndescrip         : b''\\naux_file        : b''\\nqform_code      : aligned\\nsform_code      : scanner\\nquatern_b       : 0.005566106\\nquatern_c       : -0.99907005\\nquatern_d       : -0.039187826\\nqoffset_x       : 109.6514\\nqoffset_y       : -85.24028\\nqoffset_z       : -0.75662804\\nsrow_x          : [-1.9987066e+00 -1.9563451e-02  6.9204323e-02  1.0965140e+02]\\nsrow_y          : [-2.4923988e-02  1.9937334e+00 -1.5622485e-01 -8.5240280e+01]\\nsrow_z          : [ 0.06745933  0.15698624  1.9926878  -0.75662804]\\nintent_name     : b''\\nmagic           : b'n+1'\""
      ]
     },
     "execution_count": 142,
     "metadata": {},
     "output_type": "execute_result"
    }
   ],
   "source": [
    "hdr_info"
   ]
  },
  {
   "cell_type": "code",
   "execution_count": null,
   "id": "bbd9f75f-09a0-4111-b676-1c88569b077a",
   "metadata": {},
   "outputs": [],
   "source": []
  },
  {
   "cell_type": "code",
   "execution_count": 94,
   "id": "7f28b37f-8bc2-422e-9172-871aefdbb41b",
   "metadata": {},
   "outputs": [
    {
     "data": {
      "text/plain": [
       "\u001b[1;31mSignature:\u001b[0m \u001b[0mhdr\u001b[0m\u001b[1;33m.\u001b[0m\u001b[0mget_xyzt_units\u001b[0m\u001b[1;33m(\u001b[0m\u001b[1;33m)\u001b[0m\u001b[1;33m\u001b[0m\u001b[1;33m\u001b[0m\u001b[0m\n",
       "\u001b[1;31mDocstring:\u001b[0m <no docstring>\n",
       "\u001b[1;31mFile:\u001b[0m      c:\\programdata\\anaconda3\\lib\\site-packages\\nibabel\\nifti1.py\n",
       "\u001b[1;31mType:\u001b[0m      method\n"
      ]
     },
     "metadata": {},
     "output_type": "display_data"
    }
   ],
   "source": [
    "hdr.get_xyzt_units?"
   ]
  },
  {
   "cell_type": "code",
   "execution_count": 95,
   "id": "1498917b-90fd-4aec-8885-c06ac9034141",
   "metadata": {},
   "outputs": [
    {
     "data": {
      "text/plain": [
       "('mm', 'unknown')"
      ]
     },
     "execution_count": 95,
     "metadata": {},
     "output_type": "execute_result"
    }
   ],
   "source": [
    "# x,y,z unit 확인하기\n",
    "hdr.get_xyzt_units()"
   ]
  },
  {
   "cell_type": "code",
   "execution_count": 92,
   "id": "8b54f70f-3acb-4be9-9bec-9eb6854cdba4",
   "metadata": {},
   "outputs": [
    {
     "data": {
      "text/plain": [
       "'unknown'"
      ]
     },
     "execution_count": 92,
     "metadata": {},
     "output_type": "execute_result"
    }
   ],
   "source": [
    "hdr.get_xyzt_units()[1]"
   ]
  },
  {
   "cell_type": "code",
   "execution_count": 96,
   "id": "e9620583-aadb-42be-8e70-eb5a33854a6f",
   "metadata": {},
   "outputs": [],
   "source": [
    "# raw 헤더정보 액세스하기(고급 옵션)\n",
    "raw = hdr.structarr"
   ]
  },
  {
   "cell_type": "code",
   "execution_count": 97,
   "id": "12ba8c12-ceff-4ca9-a335-300a44bb4d0d",
   "metadata": {},
   "outputs": [
    {
     "data": {
      "text/plain": [
       "array((348, b'', b'', 0, 0, b'r', 0, [  3, 112, 112,  72,   1,   1,   1,   1], 0., 0., 0., 0, 512, 16, 0, [-1.,  2.,  2.,  2.,  0.,  0.,  0.,  0.], 0., nan, nan, 0, 0, 2, 0., 0., 0., 0., 0, 0, b'', b'', 1, 0, 0.01405673, 0.98594135, 0.16242322, 122.66366, -90.06522, -81.59267, [0., 0., 0., 0.], [0., 0., 0., 0.], [0., 0., 0., 0.], b'', b'n+1'),\n",
       "      dtype=[('sizeof_hdr', '<i4'), ('data_type', 'S10'), ('db_name', 'S18'), ('extents', '<i4'), ('session_error', '<i2'), ('regular', 'S1'), ('dim_info', 'u1'), ('dim', '<i2', (8,)), ('intent_p1', '<f4'), ('intent_p2', '<f4'), ('intent_p3', '<f4'), ('intent_code', '<i2'), ('datatype', '<i2'), ('bitpix', '<i2'), ('slice_start', '<i2'), ('pixdim', '<f4', (8,)), ('vox_offset', '<f4'), ('scl_slope', '<f4'), ('scl_inter', '<f4'), ('slice_end', '<i2'), ('slice_code', 'u1'), ('xyzt_units', 'u1'), ('cal_max', '<f4'), ('cal_min', '<f4'), ('slice_duration', '<f4'), ('toffset', '<f4'), ('glmax', '<i4'), ('glmin', '<i4'), ('descrip', 'S80'), ('aux_file', 'S24'), ('qform_code', '<i2'), ('sform_code', '<i2'), ('quatern_b', '<f4'), ('quatern_c', '<f4'), ('quatern_d', '<f4'), ('qoffset_x', '<f4'), ('qoffset_y', '<f4'), ('qoffset_z', '<f4'), ('srow_x', '<f4', (4,)), ('srow_y', '<f4', (4,)), ('srow_z', '<f4', (4,)), ('intent_name', 'S16'), ('magic', 'S4')])"
      ]
     },
     "execution_count": 97,
     "metadata": {},
     "output_type": "execute_result"
    }
   ],
   "source": [
    "raw"
   ]
  },
  {
   "cell_type": "code",
   "execution_count": 98,
   "id": "3e1a20a7-839b-48c5-92aa-77b19770f911",
   "metadata": {},
   "outputs": [],
   "source": [
    "# data에 nii.gz 파일 array로 담기\n",
    "data = img.get_fdata()"
   ]
  },
  {
   "cell_type": "code",
   "execution_count": 99,
   "id": "a45c8e7e-ffd6-4b0f-8b35-667e338b127a",
   "metadata": {},
   "outputs": [
    {
     "data": {
      "text/plain": [
       "(112, 112, 72)"
      ]
     },
     "execution_count": 99,
     "metadata": {},
     "output_type": "execute_result"
    }
   ],
   "source": [
    "# get_fdata의 shape 확인하기\n",
    "data.shape"
   ]
  },
  {
   "cell_type": "code",
   "execution_count": null,
   "id": "3d588a84-1eaa-471a-90fd-08b9ebd20cbc",
   "metadata": {},
   "outputs": [],
   "source": [
    "\n",
    "data.shape[1]/2"
   ]
  },
  {
   "cell_type": "code",
   "execution_count": null,
   "id": "a1728fda-ad25-4542-8e1a-f0ce0e16d5f5",
   "metadata": {},
   "outputs": [],
   "source": [
    "layer_numb_list = []"
   ]
  },
  {
   "cell_type": "code",
   "execution_count": null,
   "id": "64dcafe4-32d8-4a81-95bb-769fed98cb12",
   "metadata": {},
   "outputs": [],
   "source": [
    "[int((data.shape[1]/2+20)-5*i) for i in range(9)]"
   ]
  },
  {
   "cell_type": "code",
   "execution_count": null,
   "id": "f151ffa5-7c51-4262-a9e5-c48fa60f873e",
   "metadata": {},
   "outputs": [],
   "source": []
  },
  {
   "cell_type": "code",
   "execution_count": null,
   "id": "2b902034-c39f-4d90-926b-ffdbba79e26d",
   "metadata": {},
   "outputs": [],
   "source": []
  },
  {
   "cell_type": "code",
   "execution_count": null,
   "id": "a7bdb978-0745-4e71-afbb-d13924e5d3a6",
   "metadata": {},
   "outputs": [],
   "source": []
  },
  {
   "cell_type": "code",
   "execution_count": null,
   "id": "33f5bf3a-9a09-410f-85ab-845e8b5af5e7",
   "metadata": {},
   "outputs": [],
   "source": [
    "data.shape[2]"
   ]
  },
  {
   "cell_type": "code",
   "execution_count": null,
   "id": "0fde5430-1930-4adc-9a1d-c678948049de",
   "metadata": {},
   "outputs": [],
   "source": [
    "plt.imshow(data[:,:,20])"
   ]
  },
  {
   "cell_type": "code",
   "execution_count": null,
   "id": "84dcd314-9565-48b0-aa6f-04299864dedb",
   "metadata": {},
   "outputs": [],
   "source": [
    "def save_nifti_images(input_nifti_path, axis, layer_numb_list, interval, save_path):\n",
    "    \n",
    "    \n",
    "    file_name = input_nifti_path.split('\\\\')[-1].rstrip('.nii.gz')\n",
    "    \n",
    "    img = nib.load(input_nifti_path)\n",
    "    data = img.get_fdata()\n",
    "    fig, axs = plt.subplots(3, 3, figsize=(10,10))\n",
    "    \n",
    "    if layer_numb_list==None:\n",
    "        layer_numb_list = [int((data.shape[axis]/2+(interval*4))-interval*i) for i in range(9)]\n",
    "        \n",
    "        for ax, layer_numb in zip(axs.ravel(), layer_numb_list):\n",
    "            if axis==2:\n",
    "                sample = data[:,:,layer_numb]\n",
    "            elif axis==1:\n",
    "                sample = data[:,layer_numb,:]\n",
    "            elif axis==0:\n",
    "                sample = data[layer_numb,:,:]\n",
    "            ax.imshow(sample, cmap='gray')\n",
    "            \n",
    "    else:\n",
    "        for ax, layer_numb in zip(axs.ravel(), layer_numb_list):\n",
    "            if axis==2:\n",
    "                sample = data[:,:,layer_numb]\n",
    "            elif axis==1:\n",
    "                sample = data[:,layer_numb,:]\n",
    "            elif axis==0:\n",
    "                sample = data[layer_numb,:,:]\n",
    "            ax.imshow(sample, cmap='gray')\n",
    "    \n",
    "    plt.savefig(os.path.join(save_path,file_name)+'.png', dpi=300)\n"
   ]
  },
  {
   "cell_type": "code",
   "execution_count": null,
   "id": "46b9bdc3-51dd-4a89-b36d-93bd810d135e",
   "metadata": {},
   "outputs": [],
   "source": [
    "data.shape"
   ]
  },
  {
   "cell_type": "code",
   "execution_count": 104,
   "id": "5473c59e-a4e7-4713-9e21-1ee2a0b64f6d",
   "metadata": {},
   "outputs": [
    {
     "data": {
      "text/plain": [
       "'C:/Users/parkm/Desktop/github/miccai_stroke_2022/data/task2.ATLAS_2.0/ATLAS_2/Training\\\\R001\\\\sub-r001s006\\\\ses-1\\\\anat\\\\sub-r001s006_ses-1_space-MNI152NLin2009aSym_label-L_desc-T1lesion_mask.nii.gz'"
      ]
     },
     "execution_count": 104,
     "metadata": {},
     "output_type": "execute_result"
    }
   ],
   "source": [
    "task2_train_data[10]"
   ]
  },
  {
   "cell_type": "code",
   "execution_count": 103,
   "id": "f5afd5b9-6651-4e6b-8720-f7d54eb6f3ed",
   "metadata": {},
   "outputs": [
    {
     "ename": "NameError",
     "evalue": "name 'save_nifti_images' is not defined",
     "output_type": "error",
     "traceback": [
      "\u001b[1;31m---------------------------------------------------------------------------\u001b[0m",
      "\u001b[1;31mNameError\u001b[0m                                 Traceback (most recent call last)",
      "\u001b[1;32m~\\AppData\\Local\\Temp/ipykernel_8380/3021063566.py\u001b[0m in \u001b[0;36m<module>\u001b[1;34m\u001b[0m\n\u001b[1;32m----> 1\u001b[1;33m \u001b[0msave_nifti_images\u001b[0m\u001b[1;33m(\u001b[0m\u001b[0mtask2_test_data\u001b[0m\u001b[1;33m[\u001b[0m\u001b[1;36m0\u001b[0m\u001b[1;33m]\u001b[0m\u001b[1;33m,\u001b[0m \u001b[1;36m2\u001b[0m\u001b[1;33m,\u001b[0m \u001b[1;32mNone\u001b[0m\u001b[1;33m,\u001b[0m \u001b[1;36m5\u001b[0m\u001b[1;33m,\u001b[0m \u001b[1;34m'C:/Users/parkm/Desktop/github/miccai_stroke_2022/result/'\u001b[0m\u001b[1;33m)\u001b[0m\u001b[1;33m\u001b[0m\u001b[1;33m\u001b[0m\u001b[0m\n\u001b[0m",
      "\u001b[1;31mNameError\u001b[0m: name 'save_nifti_images' is not defined"
     ]
    }
   ],
   "source": [
    "save_nifti_images(task2_test_data[0], 2, None, 5, 'C:/Users/parkm/Desktop/github/miccai_stroke_2022/result/')"
   ]
  },
  {
   "cell_type": "code",
   "execution_count": 101,
   "id": "7b3fabd6-f1bf-4105-9b5a-86ed5d59d4bc",
   "metadata": {},
   "outputs": [],
   "source": [
    "import scipy.ndimage as ndi"
   ]
  },
  {
   "cell_type": "code",
   "execution_count": 102,
   "id": "64e9afc4-a239-48fd-bac4-660a4e40014e",
   "metadata": {},
   "outputs": [
    {
     "data": {
      "image/png": "[encoded data removed]",
      "text/plain": [
       "<Figure size 432x288 with 1 Axes>"
      ]
     },
     "metadata": {
      "needs_background": "light"
     },
     "output_type": "display_data"
    }
   ],
   "source": [
    "hist = ndi.histogram(data[:,:,:],min=0,max=200,bins=200)\n",
    "plt.plot(hist)\n",
    "plt.show()"
   ]
  },
  {
   "cell_type": "markdown",
   "id": "d3823c4a-4f94-4902-a1fc-196a24f7da57",
   "metadata": {},
   "source": [
    "https://sakurachaojun.github.io/PSYO3505/data/bioimage.html"
   ]
  },
  {
   "cell_type": "code",
   "execution_count": null,
   "id": "1c1de9c3-caf2-4c3e-8ac5-84ecebb66ab9",
   "metadata": {},
   "outputs": [],
   "source": []
  }
 ],
 "metadata": {
  "interpreter": {
   "hash": "ad0e9ecde611ae35305dd4ed9aae66f2cfc24eed9b69d21cc1d6de69b29a2e73"
  },
  "kernelspec": {
   "display_name": "Python 3 (ipykernel)",
   "language": "python",
   "name": "python3"
  },
  "language_info": {
   "codemirror_mode": {
    "name": "ipython",
    "version": 3
   },
   "file_extension": ".py",
   "mimetype": "text/x-python",
   "name": "python",
   "nbconvert_exporter": "python",
   "pygments_lexer": "ipython3",
   "version": "3.9.7"
  }
 },
 "nbformat": 4,
 "nbformat_minor": 5
}
