{
 "cells": [
  {
   "cell_type": "code",
   "execution_count": 1,
   "id": "13be0ded-e530-407d-904e-b584ecbd7c6c",
   "metadata": {},
   "outputs": [],
   "source": [
    "import glob\n",
    "import os, sys\n",
    "import nibabel as nib \n",
    "import pandas as pd\n",
    "import numpy as np\n",
    "import matplotlib.pyplot as plt\n",
    "from io import StringIO\n"
   ]
  },
  {
   "cell_type": "code",
   "execution_count": null,
   "id": "906b54c5-ec05-4392-a72d-4987a12f187f",
   "metadata": {},
   "outputs": [],
   "source": [
    "C:\\Users\\parkm\\Desktop\\github\\analysis_nifti_for_deeplearning\\data\\task2\\Testing"
   ]
  }
 ],
 "metadata": {
  "kernelspec": {
   "display_name": "miccai",
   "language": "python",
   "name": "miccai"
  },
  "language_info": {
   "codemirror_mode": {
    "name": "ipython",
    "version": 3
   },
   "file_extension": ".py",
   "mimetype": "text/x-python",
   "name": "python",
   "nbconvert_exporter": "python",
   "pygments_lexer": "ipython3",
   "version": "3.8.5"
  }
 },
 "nbformat": 4,
 "nbformat_minor": 5
}
